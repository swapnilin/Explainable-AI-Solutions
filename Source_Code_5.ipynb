{
  "nbformat": 4,
  "nbformat_minor": 0,
  "metadata": {
    "kernelspec": {
      "display_name": "Python 3",
      "language": "python",
      "name": "python3"
    },
    "language_info": {
      "codemirror_mode": {
        "name": "ipython",
        "version": 3
      },
      "file_extension": ".py",
      "mimetype": "text/x-python",
      "name": "python",
      "nbconvert_exporter": "python",
      "pygments_lexer": "ipython3",
      "version": "3.7.6"
    },
    "colab": {
      "name": "Project_Code.ipynb",
      "provenance": [],
      "collapsed_sections": [
        "RYOHc68YujYE",
        "lc_kizYoJ2FS",
        "ZsJCxVwOJ2FU",
        "vQniuFLiJ2FZ",
        "Iid-Mm7SvKLH",
        "kO38zz_lvQlb",
        "dcVJD8thJ2Fo",
        "WU_fkGPkJ2Fo",
        "O6Li3YCgJ2Fq",
        "IvmLln6PJ2F0",
        "1i5o-mJxJ2F1",
        "8VR2DLkQJ2F5",
        "pQ6brzE7J2F_",
        "hFMuvW1uJ2Gb",
        "6jkwgRPuQDMl",
        "I-1mdGanQO3N",
        "05_n-tl3J2Gh",
        "GcrbeHLgJ2Gl",
        "_Q2od2oZJ2Gm",
        "5V1nnqq2J2Gs",
        "I6LhGTQoJ2Gy",
        "9VxTAromSFOq",
        "-W0I9QpctKVK",
        "5lZqtS1yJ2G5",
        "FIFI3J9hJ2G7"
      ]
    }
  },
  "cells": [
    {
      "cell_type": "markdown",
      "metadata": {
        "id": "Z_fGl8o4J2FR"
      },
      "source": [
        "# **Loan Eligibility Prediction**"
      ]
    },
    {
      "cell_type": "markdown",
      "metadata": {
        "id": "RYOHc68YujYE"
      },
      "source": [
        "## **Data Analysis and Data Prep**"
      ]
    },
    {
      "cell_type": "markdown",
      "metadata": {
        "id": "lc_kizYoJ2FS"
      },
      "source": [
        "### Loading all the necessary packages"
      ]
    },
    {
      "cell_type": "code",
      "metadata": {
        "id": "AkAmUuumJ2FU"
      },
      "source": [
        "import pandas as pd\n",
        "import numpy as np\n",
        "import seaborn as sns\n",
        "import matplotlib.pyplot as plt\n",
        "%matplotlib inline\n",
        "import warnings\n",
        "warnings.filterwarnings(\"ignore\")"
      ],
      "execution_count": 1,
      "outputs": []
    },
    {
      "cell_type": "markdown",
      "metadata": {
        "id": "ZsJCxVwOJ2FU"
      },
      "source": [
        "### Reading the data"
      ]
    },
    {
      "cell_type": "code",
      "metadata": {
        "id": "lDgOzoxfJ2FV"
      },
      "source": [
        "#we will save a raw copy of the training set\n",
        "raw = pd.read_csv('train.csv')"
      ],
      "execution_count": 2,
      "outputs": []
    },
    {
      "cell_type": "code",
      "metadata": {
        "colab": {
          "base_uri": "https://localhost:8080/",
          "height": 0
        },
        "id": "LPxkm7y6J2FW",
        "outputId": "3ed8d71a-e88a-49bc-e488-0113e6f05b38"
      },
      "source": [
        "#Importing the training data\n",
        "train = pd.read_csv('train.csv')\n",
        "train.head(5)"
      ],
      "execution_count": 3,
      "outputs": [
        {
          "output_type": "execute_result",
          "data": {
            "text/html": [
              "<div>\n",
              "<style scoped>\n",
              "    .dataframe tbody tr th:only-of-type {\n",
              "        vertical-align: middle;\n",
              "    }\n",
              "\n",
              "    .dataframe tbody tr th {\n",
              "        vertical-align: top;\n",
              "    }\n",
              "\n",
              "    .dataframe thead th {\n",
              "        text-align: right;\n",
              "    }\n",
              "</style>\n",
              "<table border=\"1\" class=\"dataframe\">\n",
              "  <thead>\n",
              "    <tr style=\"text-align: right;\">\n",
              "      <th></th>\n",
              "      <th>Loan_ID</th>\n",
              "      <th>Gender</th>\n",
              "      <th>Married</th>\n",
              "      <th>Dependents</th>\n",
              "      <th>Education</th>\n",
              "      <th>Self_Employed</th>\n",
              "      <th>ApplicantIncome</th>\n",
              "      <th>CoapplicantIncome</th>\n",
              "      <th>LoanAmount</th>\n",
              "      <th>Loan_Amount_Term</th>\n",
              "      <th>Credit_History</th>\n",
              "      <th>Property_Area</th>\n",
              "      <th>Loan_Status</th>\n",
              "    </tr>\n",
              "  </thead>\n",
              "  <tbody>\n",
              "    <tr>\n",
              "      <th>0</th>\n",
              "      <td>LP001002</td>\n",
              "      <td>Male</td>\n",
              "      <td>No</td>\n",
              "      <td>0</td>\n",
              "      <td>Graduate</td>\n",
              "      <td>No</td>\n",
              "      <td>5849</td>\n",
              "      <td>0.0</td>\n",
              "      <td>NaN</td>\n",
              "      <td>360.0</td>\n",
              "      <td>1.0</td>\n",
              "      <td>Urban</td>\n",
              "      <td>Y</td>\n",
              "    </tr>\n",
              "    <tr>\n",
              "      <th>1</th>\n",
              "      <td>LP001003</td>\n",
              "      <td>Male</td>\n",
              "      <td>Yes</td>\n",
              "      <td>1</td>\n",
              "      <td>Graduate</td>\n",
              "      <td>No</td>\n",
              "      <td>4583</td>\n",
              "      <td>1508.0</td>\n",
              "      <td>128.0</td>\n",
              "      <td>360.0</td>\n",
              "      <td>1.0</td>\n",
              "      <td>Rural</td>\n",
              "      <td>N</td>\n",
              "    </tr>\n",
              "    <tr>\n",
              "      <th>2</th>\n",
              "      <td>LP001005</td>\n",
              "      <td>Male</td>\n",
              "      <td>Yes</td>\n",
              "      <td>0</td>\n",
              "      <td>Graduate</td>\n",
              "      <td>Yes</td>\n",
              "      <td>3000</td>\n",
              "      <td>0.0</td>\n",
              "      <td>66.0</td>\n",
              "      <td>360.0</td>\n",
              "      <td>1.0</td>\n",
              "      <td>Urban</td>\n",
              "      <td>Y</td>\n",
              "    </tr>\n",
              "    <tr>\n",
              "      <th>3</th>\n",
              "      <td>LP001006</td>\n",
              "      <td>Male</td>\n",
              "      <td>Yes</td>\n",
              "      <td>0</td>\n",
              "      <td>Not Graduate</td>\n",
              "      <td>No</td>\n",
              "      <td>2583</td>\n",
              "      <td>2358.0</td>\n",
              "      <td>120.0</td>\n",
              "      <td>360.0</td>\n",
              "      <td>1.0</td>\n",
              "      <td>Urban</td>\n",
              "      <td>Y</td>\n",
              "    </tr>\n",
              "    <tr>\n",
              "      <th>4</th>\n",
              "      <td>LP001008</td>\n",
              "      <td>Male</td>\n",
              "      <td>No</td>\n",
              "      <td>0</td>\n",
              "      <td>Graduate</td>\n",
              "      <td>No</td>\n",
              "      <td>6000</td>\n",
              "      <td>0.0</td>\n",
              "      <td>141.0</td>\n",
              "      <td>360.0</td>\n",
              "      <td>1.0</td>\n",
              "      <td>Urban</td>\n",
              "      <td>Y</td>\n",
              "    </tr>\n",
              "  </tbody>\n",
              "</table>\n",
              "</div>"
            ],
            "text/plain": [
              "    Loan_ID Gender Married  ... Credit_History Property_Area Loan_Status\n",
              "0  LP001002   Male      No  ...            1.0         Urban           Y\n",
              "1  LP001003   Male     Yes  ...            1.0         Rural           N\n",
              "2  LP001005   Male     Yes  ...            1.0         Urban           Y\n",
              "3  LP001006   Male     Yes  ...            1.0         Urban           Y\n",
              "4  LP001008   Male      No  ...            1.0         Urban           Y\n",
              "\n",
              "[5 rows x 13 columns]"
            ]
          },
          "metadata": {
            "tags": []
          },
          "execution_count": 3
        }
      ]
    },
    {
      "cell_type": "code",
      "metadata": {
        "colab": {
          "base_uri": "https://localhost:8080/",
          "height": 0
        },
        "id": "MwgS6DwLJ2FX",
        "outputId": "4de9ee5d-6315-439f-e9e6-0292ba53212e"
      },
      "source": [
        "#Let's check some stats quickly\n",
        "train['Loan_Status'].value_counts().plot.bar()"
      ],
      "execution_count": 4,
      "outputs": [
        {
          "output_type": "execute_result",
          "data": {
            "text/plain": [
              "<matplotlib.axes._subplots.AxesSubplot at 0x7ff4c20c8cd0>"
            ]
          },
          "metadata": {
            "tags": []
          },
          "execution_count": 4
        },
        {
          "output_type": "display_data",
          "data": {
            "image/png": "[encoded data removed]",
            "text/plain": [
              "<Figure size 432x288 with 1 Axes>"
            ]
          },
          "metadata": {
            "tags": [],
            "needs_background": "light"
          }
        }
      ]
    },
    {
      "cell_type": "markdown",
      "metadata": {
        "id": "bd1ibbDJJ2FY"
      },
      "source": [
        "422 people (around 69%) out of 614 were eligible for loan"
      ]
    },
    {
      "cell_type": "markdown",
      "metadata": {
        "id": "vQniuFLiJ2FZ"
      },
      "source": [
        "### Missing value imputation"
      ]
    },
    {
      "cell_type": "code",
      "metadata": {
        "colab": {
          "base_uri": "https://localhost:8080/"
        },
        "id": "swWiCMPFJ2FZ",
        "outputId": "074a55ce-f0a3-44bd-ca06-3ddf188e55ea"
      },
      "source": [
        "#check for missing values\n",
        "train.isnull().sum()"
      ],
      "execution_count": 5,
      "outputs": [
        {
          "output_type": "execute_result",
          "data": {
            "text/plain": [
              "Loan_ID               0\n",
              "Gender               13\n",
              "Married               3\n",
              "Dependents           15\n",
              "Education             0\n",
              "Self_Employed        32\n",
              "ApplicantIncome       0\n",
              "CoapplicantIncome     0\n",
              "LoanAmount           22\n",
              "Loan_Amount_Term     14\n",
              "Credit_History       50\n",
              "Property_Area         0\n",
              "Loan_Status           0\n",
              "dtype: int64"
            ]
          },
          "metadata": {
            "tags": []
          },
          "execution_count": 5
        }
      ]
    },
    {
      "cell_type": "markdown",
      "metadata": {
        "id": "roM2r5WwJ2Fa"
      },
      "source": [
        "Consider these methods to fill in the missing values:\n",
        "* For numerical variables: imputation using mean or median \n",
        "* For categorical variables: imputation using mode\n",
        "\n",
        "In the 'Loan_Amount_Term' variable, the value of 360 is repeating the most. So we will replace the missing values in this variable using the mode of this variable. i.e. 360\n",
        "\n",
        "train['Loan_Amount_Term'].value_counts()\n",
        "\n",
        "For the 'LoanAmount' variable, use mean or median to impute the missing values. We will use the median to fill the null values as 'LoanAmount' has outliers so the mean will not be the proper approach as it is highly affected by the presence of outliers."
      ]
    },
    {
      "cell_type": "markdown",
      "metadata": {
        "id": "wehUoyL_J2Fa"
      },
      "source": [
        "    "
      ]
    },
    {
      "cell_type": "code",
      "metadata": {
        "id": "kfpwiE-4J2Fb"
      },
      "source": [
        "train['Gender'].fillna(train['Gender'].mode()[0], inplace=True)\n",
        "train['Married'].fillna(train['Married'].mode()[0], inplace=True)\n",
        "train['Dependents'].fillna(train['Dependents'].mode()[0], inplace=True)\n",
        "train['Self_Employed'].fillna(train['Self_Employed'].mode()[0], inplace=True)\n",
        "\n",
        "train['LoanAmount'].fillna(train['LoanAmount'].median(), inplace=True)\n",
        "train['Loan_Amount_Term'].fillna(train['Loan_Amount_Term'].mode()[0], inplace=True)\n",
        "train['Credit_History'].fillna(train['Credit_History'].mode()[0], inplace=True)"
      ],
      "execution_count": 6,
      "outputs": []
    },
    {
      "cell_type": "code",
      "metadata": {
        "colab": {
          "base_uri": "https://localhost:8080/"
        },
        "id": "xObYJfwvJ2Fc",
        "outputId": "2917a63d-eaaa-4061-bf97-4ba9c221d880"
      },
      "source": [
        "#Confirm\n",
        "train.isnull().sum()"
      ],
      "execution_count": 7,
      "outputs": [
        {
          "output_type": "execute_result",
          "data": {
            "text/plain": [
              "Loan_ID              0\n",
              "Gender               0\n",
              "Married              0\n",
              "Dependents           0\n",
              "Education            0\n",
              "Self_Employed        0\n",
              "ApplicantIncome      0\n",
              "CoapplicantIncome    0\n",
              "LoanAmount           0\n",
              "Loan_Amount_Term     0\n",
              "Credit_History       0\n",
              "Property_Area        0\n",
              "Loan_Status          0\n",
              "dtype: int64"
            ]
          },
          "metadata": {
            "tags": []
          },
          "execution_count": 7
        }
      ]
    },
    {
      "cell_type": "code",
      "metadata": {
        "colab": {
          "base_uri": "https://localhost:8080/",
          "height": 0
        },
        "id": "3H2AgZIpJ2Fe",
        "outputId": "9ae21bcb-d816-4713-9759-ce52326bf42f"
      },
      "source": [
        "train.head(2)"
      ],
      "execution_count": 8,
      "outputs": [
        {
          "output_type": "execute_result",
          "data": {
            "text/html": [
              "<div>\n",
              "<style scoped>\n",
              "    .dataframe tbody tr th:only-of-type {\n",
              "        vertical-align: middle;\n",
              "    }\n",
              "\n",
              "    .dataframe tbody tr th {\n",
              "        vertical-align: top;\n",
              "    }\n",
              "\n",
              "    .dataframe thead th {\n",
              "        text-align: right;\n",
              "    }\n",
              "</style>\n",
              "<table border=\"1\" class=\"dataframe\">\n",
              "  <thead>\n",
              "    <tr style=\"text-align: right;\">\n",
              "      <th></th>\n",
              "      <th>Loan_ID</th>\n",
              "      <th>Gender</th>\n",
              "      <th>Married</th>\n",
              "      <th>Dependents</th>\n",
              "      <th>Education</th>\n",
              "      <th>Self_Employed</th>\n",
              "      <th>ApplicantIncome</th>\n",
              "      <th>CoapplicantIncome</th>\n",
              "      <th>LoanAmount</th>\n",
              "      <th>Loan_Amount_Term</th>\n",
              "      <th>Credit_History</th>\n",
              "      <th>Property_Area</th>\n",
              "      <th>Loan_Status</th>\n",
              "    </tr>\n",
              "  </thead>\n",
              "  <tbody>\n",
              "    <tr>\n",
              "      <th>0</th>\n",
              "      <td>LP001002</td>\n",
              "      <td>Male</td>\n",
              "      <td>No</td>\n",
              "      <td>0</td>\n",
              "      <td>Graduate</td>\n",
              "      <td>No</td>\n",
              "      <td>5849</td>\n",
              "      <td>0.0</td>\n",
              "      <td>128.0</td>\n",
              "      <td>360.0</td>\n",
              "      <td>1.0</td>\n",
              "      <td>Urban</td>\n",
              "      <td>Y</td>\n",
              "    </tr>\n",
              "    <tr>\n",
              "      <th>1</th>\n",
              "      <td>LP001003</td>\n",
              "      <td>Male</td>\n",
              "      <td>Yes</td>\n",
              "      <td>1</td>\n",
              "      <td>Graduate</td>\n",
              "      <td>No</td>\n",
              "      <td>4583</td>\n",
              "      <td>1508.0</td>\n",
              "      <td>128.0</td>\n",
              "      <td>360.0</td>\n",
              "      <td>1.0</td>\n",
              "      <td>Rural</td>\n",
              "      <td>N</td>\n",
              "    </tr>\n",
              "  </tbody>\n",
              "</table>\n",
              "</div>"
            ],
            "text/plain": [
              "    Loan_ID Gender Married  ... Credit_History Property_Area Loan_Status\n",
              "0  LP001002   Male      No  ...            1.0         Urban           Y\n",
              "1  LP001003   Male     Yes  ...            1.0         Rural           N\n",
              "\n",
              "[2 rows x 13 columns]"
            ]
          },
          "metadata": {
            "tags": []
          },
          "execution_count": 8
        }
      ]
    },
    {
      "cell_type": "code",
      "metadata": {
        "colab": {
          "base_uri": "https://localhost:8080/",
          "height": 0
        },
        "id": "FLVny_CJJ2Ff",
        "outputId": "026e4c65-832d-4f17-8df6-4f4117155241"
      },
      "source": [
        "#rename Some features for better interpretability\n",
        "train = train.rename(columns = {'Education':'Graduate','Gender':'Gender_Male','Loan_Status':'Eligible'})\n",
        "train.head(2)"
      ],
      "execution_count": 9,
      "outputs": [
        {
          "output_type": "execute_result",
          "data": {
            "text/html": [
              "<div>\n",
              "<style scoped>\n",
              "    .dataframe tbody tr th:only-of-type {\n",
              "        vertical-align: middle;\n",
              "    }\n",
              "\n",
              "    .dataframe tbody tr th {\n",
              "        vertical-align: top;\n",
              "    }\n",
              "\n",
              "    .dataframe thead th {\n",
              "        text-align: right;\n",
              "    }\n",
              "</style>\n",
              "<table border=\"1\" class=\"dataframe\">\n",
              "  <thead>\n",
              "    <tr style=\"text-align: right;\">\n",
              "      <th></th>\n",
              "      <th>Loan_ID</th>\n",
              "      <th>Gender_Male</th>\n",
              "      <th>Married</th>\n",
              "      <th>Dependents</th>\n",
              "      <th>Graduate</th>\n",
              "      <th>Self_Employed</th>\n",
              "      <th>ApplicantIncome</th>\n",
              "      <th>CoapplicantIncome</th>\n",
              "      <th>LoanAmount</th>\n",
              "      <th>Loan_Amount_Term</th>\n",
              "      <th>Credit_History</th>\n",
              "      <th>Property_Area</th>\n",
              "      <th>Eligible</th>\n",
              "    </tr>\n",
              "  </thead>\n",
              "  <tbody>\n",
              "    <tr>\n",
              "      <th>0</th>\n",
              "      <td>LP001002</td>\n",
              "      <td>Male</td>\n",
              "      <td>No</td>\n",
              "      <td>0</td>\n",
              "      <td>Graduate</td>\n",
              "      <td>No</td>\n",
              "      <td>5849</td>\n",
              "      <td>0.0</td>\n",
              "      <td>128.0</td>\n",
              "      <td>360.0</td>\n",
              "      <td>1.0</td>\n",
              "      <td>Urban</td>\n",
              "      <td>Y</td>\n",
              "    </tr>\n",
              "    <tr>\n",
              "      <th>1</th>\n",
              "      <td>LP001003</td>\n",
              "      <td>Male</td>\n",
              "      <td>Yes</td>\n",
              "      <td>1</td>\n",
              "      <td>Graduate</td>\n",
              "      <td>No</td>\n",
              "      <td>4583</td>\n",
              "      <td>1508.0</td>\n",
              "      <td>128.0</td>\n",
              "      <td>360.0</td>\n",
              "      <td>1.0</td>\n",
              "      <td>Rural</td>\n",
              "      <td>N</td>\n",
              "    </tr>\n",
              "  </tbody>\n",
              "</table>\n",
              "</div>"
            ],
            "text/plain": [
              "    Loan_ID Gender_Male Married  ... Credit_History Property_Area Eligible\n",
              "0  LP001002        Male      No  ...            1.0         Urban        Y\n",
              "1  LP001003        Male     Yes  ...            1.0         Rural        N\n",
              "\n",
              "[2 rows x 13 columns]"
            ]
          },
          "metadata": {
            "tags": []
          },
          "execution_count": 9
        }
      ]
    },
    {
      "cell_type": "markdown",
      "metadata": {
        "id": "Iid-Mm7SvKLH"
      },
      "source": [
        "### Data Prep"
      ]
    },
    {
      "cell_type": "code",
      "metadata": {
        "id": "EcZljCkwJ2Fh"
      },
      "source": [
        "#We' label encode dependents\n",
        "from sklearn import preprocessing\n",
        "encode = preprocessing.LabelEncoder()"
      ],
      "execution_count": 10,
      "outputs": []
    },
    {
      "cell_type": "code",
      "metadata": {
        "id": "cR1ew7riJ2Fh"
      },
      "source": [
        "train['Dependents'] = encode.fit_transform(train.Dependents.values)\n",
        "train['Credit_History'] = encode.fit_transform(train.Credit_History.values)\n",
        "train['Married'] = encode.fit_transform(train.Married.values)\n",
        "train['Gender_Male'] = encode.fit_transform(train.Gender_Male.values)\n",
        "train = train.replace({'Graduate':{'Graduate':1,'Not Graduate':0}})\n",
        "train = train.replace({'Self_Employed':{'Yes':1,'No':0}})\n",
        "train = train.replace({'Eligible':{'Y':1,'N':0}})"
      ],
      "execution_count": 11,
      "outputs": []
    },
    {
      "cell_type": "code",
      "metadata": {
        "colab": {
          "base_uri": "https://localhost:8080/",
          "height": 0
        },
        "id": "eJVCgw0oJ2Fi",
        "outputId": "ffd923bc-8279-49a5-8c89-3153de6b872e"
      },
      "source": [
        "train.head(2)"
      ],
      "execution_count": 12,
      "outputs": [
        {
          "output_type": "execute_result",
          "data": {
            "text/html": [
              "<div>\n",
              "<style scoped>\n",
              "    .dataframe tbody tr th:only-of-type {\n",
              "        vertical-align: middle;\n",
              "    }\n",
              "\n",
              "    .dataframe tbody tr th {\n",
              "        vertical-align: top;\n",
              "    }\n",
              "\n",
              "    .dataframe thead th {\n",
              "        text-align: right;\n",
              "    }\n",
              "</style>\n",
              "<table border=\"1\" class=\"dataframe\">\n",
              "  <thead>\n",
              "    <tr style=\"text-align: right;\">\n",
              "      <th></th>\n",
              "      <th>Loan_ID</th>\n",
              "      <th>Gender_Male</th>\n",
              "      <th>Married</th>\n",
              "      <th>Dependents</th>\n",
              "      <th>Graduate</th>\n",
              "      <th>Self_Employed</th>\n",
              "      <th>ApplicantIncome</th>\n",
              "      <th>CoapplicantIncome</th>\n",
              "      <th>LoanAmount</th>\n",
              "      <th>Loan_Amount_Term</th>\n",
              "      <th>Credit_History</th>\n",
              "      <th>Property_Area</th>\n",
              "      <th>Eligible</th>\n",
              "    </tr>\n",
              "  </thead>\n",
              "  <tbody>\n",
              "    <tr>\n",
              "      <th>0</th>\n",
              "      <td>LP001002</td>\n",
              "      <td>1</td>\n",
              "      <td>0</td>\n",
              "      <td>0</td>\n",
              "      <td>1</td>\n",
              "      <td>0</td>\n",
              "      <td>5849</td>\n",
              "      <td>0.0</td>\n",
              "      <td>128.0</td>\n",
              "      <td>360.0</td>\n",
              "      <td>1</td>\n",
              "      <td>Urban</td>\n",
              "      <td>1</td>\n",
              "    </tr>\n",
              "    <tr>\n",
              "      <th>1</th>\n",
              "      <td>LP001003</td>\n",
              "      <td>1</td>\n",
              "      <td>1</td>\n",
              "      <td>1</td>\n",
              "      <td>1</td>\n",
              "      <td>0</td>\n",
              "      <td>4583</td>\n",
              "      <td>1508.0</td>\n",
              "      <td>128.0</td>\n",
              "      <td>360.0</td>\n",
              "      <td>1</td>\n",
              "      <td>Rural</td>\n",
              "      <td>0</td>\n",
              "    </tr>\n",
              "  </tbody>\n",
              "</table>\n",
              "</div>"
            ],
            "text/plain": [
              "    Loan_ID  Gender_Male  Married  ...  Credit_History  Property_Area  Eligible\n",
              "0  LP001002            1        0  ...               1          Urban         1\n",
              "1  LP001003            1        1  ...               1          Rural         0\n",
              "\n",
              "[2 rows x 13 columns]"
            ]
          },
          "metadata": {
            "tags": []
          },
          "execution_count": 12
        }
      ]
    },
    {
      "cell_type": "code",
      "metadata": {
        "id": "RWVoebM2J2Fj"
      },
      "source": [
        "#Apply One-Hot Encoding\n",
        "train = pd.get_dummies(train, columns=['Property_Area'])\n",
        "train = pd.get_dummies(train, columns=['Dependents'])"
      ],
      "execution_count": 13,
      "outputs": []
    },
    {
      "cell_type": "code",
      "metadata": {
        "colab": {
          "base_uri": "https://localhost:8080/",
          "height": 0
        },
        "id": "eigx6fbzJ2Fj",
        "outputId": "1fb2c1a6-e831-44fd-d3a9-141a66a28dfc"
      },
      "source": [
        "train.head(2)"
      ],
      "execution_count": 14,
      "outputs": [
        {
          "output_type": "execute_result",
          "data": {
            "text/html": [
              "<div>\n",
              "<style scoped>\n",
              "    .dataframe tbody tr th:only-of-type {\n",
              "        vertical-align: middle;\n",
              "    }\n",
              "\n",
              "    .dataframe tbody tr th {\n",
              "        vertical-align: top;\n",
              "    }\n",
              "\n",
              "    .dataframe thead th {\n",
              "        text-align: right;\n",
              "    }\n",
              "</style>\n",
              "<table border=\"1\" class=\"dataframe\">\n",
              "  <thead>\n",
              "    <tr style=\"text-align: right;\">\n",
              "      <th></th>\n",
              "      <th>Loan_ID</th>\n",
              "      <th>Gender_Male</th>\n",
              "      <th>Married</th>\n",
              "      <th>Graduate</th>\n",
              "      <th>Self_Employed</th>\n",
              "      <th>ApplicantIncome</th>\n",
              "      <th>CoapplicantIncome</th>\n",
              "      <th>LoanAmount</th>\n",
              "      <th>Loan_Amount_Term</th>\n",
              "      <th>Credit_History</th>\n",
              "      <th>Eligible</th>\n",
              "      <th>Property_Area_Rural</th>\n",
              "      <th>Property_Area_Semiurban</th>\n",
              "      <th>Property_Area_Urban</th>\n",
              "      <th>Dependents_0</th>\n",
              "      <th>Dependents_1</th>\n",
              "      <th>Dependents_2</th>\n",
              "      <th>Dependents_3</th>\n",
              "    </tr>\n",
              "  </thead>\n",
              "  <tbody>\n",
              "    <tr>\n",
              "      <th>0</th>\n",
              "      <td>LP001002</td>\n",
              "      <td>1</td>\n",
              "      <td>0</td>\n",
              "      <td>1</td>\n",
              "      <td>0</td>\n",
              "      <td>5849</td>\n",
              "      <td>0.0</td>\n",
              "      <td>128.0</td>\n",
              "      <td>360.0</td>\n",
              "      <td>1</td>\n",
              "      <td>1</td>\n",
              "      <td>0</td>\n",
              "      <td>0</td>\n",
              "      <td>1</td>\n",
              "      <td>1</td>\n",
              "      <td>0</td>\n",
              "      <td>0</td>\n",
              "      <td>0</td>\n",
              "    </tr>\n",
              "    <tr>\n",
              "      <th>1</th>\n",
              "      <td>LP001003</td>\n",
              "      <td>1</td>\n",
              "      <td>1</td>\n",
              "      <td>1</td>\n",
              "      <td>0</td>\n",
              "      <td>4583</td>\n",
              "      <td>1508.0</td>\n",
              "      <td>128.0</td>\n",
              "      <td>360.0</td>\n",
              "      <td>1</td>\n",
              "      <td>0</td>\n",
              "      <td>1</td>\n",
              "      <td>0</td>\n",
              "      <td>0</td>\n",
              "      <td>0</td>\n",
              "      <td>1</td>\n",
              "      <td>0</td>\n",
              "      <td>0</td>\n",
              "    </tr>\n",
              "  </tbody>\n",
              "</table>\n",
              "</div>"
            ],
            "text/plain": [
              "    Loan_ID  Gender_Male  Married  ...  Dependents_1  Dependents_2  Dependents_3\n",
              "0  LP001002            1        0  ...             0             0             0\n",
              "1  LP001003            1        1  ...             1             0             0\n",
              "\n",
              "[2 rows x 18 columns]"
            ]
          },
          "metadata": {
            "tags": []
          },
          "execution_count": 14
        }
      ]
    },
    {
      "cell_type": "code",
      "metadata": {
        "id": "eJHnli8vJ2Fk"
      },
      "source": [
        "#saving this procewssed dataset\n",
        "train.to_csv('Processed_Credit_Data.csv', index=None)"
      ],
      "execution_count": 15,
      "outputs": []
    },
    {
      "cell_type": "code",
      "metadata": {
        "id": "iWMmlHXGJ2Fk"
      },
      "source": [
        "train = train.drop(['Loan_ID'], axis=1)"
      ],
      "execution_count": 16,
      "outputs": []
    },
    {
      "cell_type": "code",
      "metadata": {
        "colab": {
          "base_uri": "https://localhost:8080/",
          "height": 0
        },
        "id": "T4_SmWdSJ2Fk",
        "outputId": "30bcbdbb-872e-43b0-83a1-5e56014d9a6d"
      },
      "source": [
        "train.head(2)"
      ],
      "execution_count": 17,
      "outputs": [
        {
          "output_type": "execute_result",
          "data": {
            "text/html": [
              "<div>\n",
              "<style scoped>\n",
              "    .dataframe tbody tr th:only-of-type {\n",
              "        vertical-align: middle;\n",
              "    }\n",
              "\n",
              "    .dataframe tbody tr th {\n",
              "        vertical-align: top;\n",
              "    }\n",
              "\n",
              "    .dataframe thead th {\n",
              "        text-align: right;\n",
              "    }\n",
              "</style>\n",
              "<table border=\"1\" class=\"dataframe\">\n",
              "  <thead>\n",
              "    <tr style=\"text-align: right;\">\n",
              "      <th></th>\n",
              "      <th>Gender_Male</th>\n",
              "      <th>Married</th>\n",
              "      <th>Graduate</th>\n",
              "      <th>Self_Employed</th>\n",
              "      <th>ApplicantIncome</th>\n",
              "      <th>CoapplicantIncome</th>\n",
              "      <th>LoanAmount</th>\n",
              "      <th>Loan_Amount_Term</th>\n",
              "      <th>Credit_History</th>\n",
              "      <th>Eligible</th>\n",
              "      <th>Property_Area_Rural</th>\n",
              "      <th>Property_Area_Semiurban</th>\n",
              "      <th>Property_Area_Urban</th>\n",
              "      <th>Dependents_0</th>\n",
              "      <th>Dependents_1</th>\n",
              "      <th>Dependents_2</th>\n",
              "      <th>Dependents_3</th>\n",
              "    </tr>\n",
              "  </thead>\n",
              "  <tbody>\n",
              "    <tr>\n",
              "      <th>0</th>\n",
              "      <td>1</td>\n",
              "      <td>0</td>\n",
              "      <td>1</td>\n",
              "      <td>0</td>\n",
              "      <td>5849</td>\n",
              "      <td>0.0</td>\n",
              "      <td>128.0</td>\n",
              "      <td>360.0</td>\n",
              "      <td>1</td>\n",
              "      <td>1</td>\n",
              "      <td>0</td>\n",
              "      <td>0</td>\n",
              "      <td>1</td>\n",
              "      <td>1</td>\n",
              "      <td>0</td>\n",
              "      <td>0</td>\n",
              "      <td>0</td>\n",
              "    </tr>\n",
              "    <tr>\n",
              "      <th>1</th>\n",
              "      <td>1</td>\n",
              "      <td>1</td>\n",
              "      <td>1</td>\n",
              "      <td>0</td>\n",
              "      <td>4583</td>\n",
              "      <td>1508.0</td>\n",
              "      <td>128.0</td>\n",
              "      <td>360.0</td>\n",
              "      <td>1</td>\n",
              "      <td>0</td>\n",
              "      <td>1</td>\n",
              "      <td>0</td>\n",
              "      <td>0</td>\n",
              "      <td>0</td>\n",
              "      <td>1</td>\n",
              "      <td>0</td>\n",
              "      <td>0</td>\n",
              "    </tr>\n",
              "  </tbody>\n",
              "</table>\n",
              "</div>"
            ],
            "text/plain": [
              "   Gender_Male  Married  Graduate  ...  Dependents_1  Dependents_2  Dependents_3\n",
              "0            1        0         1  ...             0             0             0\n",
              "1            1        1         1  ...             1             0             0\n",
              "\n",
              "[2 rows x 17 columns]"
            ]
          },
          "metadata": {
            "tags": []
          },
          "execution_count": 17
        }
      ]
    },
    {
      "cell_type": "code",
      "metadata": {
        "id": "aX1VfArYJ2Fl"
      },
      "source": [
        "#rename some column names for interpretability\n",
        "train = train.rename(columns = {'Property_Area_Rural':'Rural_Property', 'Property_Area_Urban':'Urban_Property', 'Property_Area_Semiurban':'Semiurban_Property'})"
      ],
      "execution_count": 18,
      "outputs": []
    },
    {
      "cell_type": "code",
      "metadata": {
        "id": "cDxqnR0rJ2Fm",
        "colab": {
          "base_uri": "https://localhost:8080/",
          "height": 0
        },
        "outputId": "8ee9d440-10ef-4c8c-826d-d379b1aa6de5"
      },
      "source": [
        "train.head(2)"
      ],
      "execution_count": 19,
      "outputs": [
        {
          "output_type": "execute_result",
          "data": {
            "text/html": [
              "<div>\n",
              "<style scoped>\n",
              "    .dataframe tbody tr th:only-of-type {\n",
              "        vertical-align: middle;\n",
              "    }\n",
              "\n",
              "    .dataframe tbody tr th {\n",
              "        vertical-align: top;\n",
              "    }\n",
              "\n",
              "    .dataframe thead th {\n",
              "        text-align: right;\n",
              "    }\n",
              "</style>\n",
              "<table border=\"1\" class=\"dataframe\">\n",
              "  <thead>\n",
              "    <tr style=\"text-align: right;\">\n",
              "      <th></th>\n",
              "      <th>Gender_Male</th>\n",
              "      <th>Married</th>\n",
              "      <th>Graduate</th>\n",
              "      <th>Self_Employed</th>\n",
              "      <th>ApplicantIncome</th>\n",
              "      <th>CoapplicantIncome</th>\n",
              "      <th>LoanAmount</th>\n",
              "      <th>Loan_Amount_Term</th>\n",
              "      <th>Credit_History</th>\n",
              "      <th>Eligible</th>\n",
              "      <th>Rural_Property</th>\n",
              "      <th>Semiurban_Property</th>\n",
              "      <th>Urban_Property</th>\n",
              "      <th>Dependents_0</th>\n",
              "      <th>Dependents_1</th>\n",
              "      <th>Dependents_2</th>\n",
              "      <th>Dependents_3</th>\n",
              "    </tr>\n",
              "  </thead>\n",
              "  <tbody>\n",
              "    <tr>\n",
              "      <th>0</th>\n",
              "      <td>1</td>\n",
              "      <td>0</td>\n",
              "      <td>1</td>\n",
              "      <td>0</td>\n",
              "      <td>5849</td>\n",
              "      <td>0.0</td>\n",
              "      <td>128.0</td>\n",
              "      <td>360.0</td>\n",
              "      <td>1</td>\n",
              "      <td>1</td>\n",
              "      <td>0</td>\n",
              "      <td>0</td>\n",
              "      <td>1</td>\n",
              "      <td>1</td>\n",
              "      <td>0</td>\n",
              "      <td>0</td>\n",
              "      <td>0</td>\n",
              "    </tr>\n",
              "    <tr>\n",
              "      <th>1</th>\n",
              "      <td>1</td>\n",
              "      <td>1</td>\n",
              "      <td>1</td>\n",
              "      <td>0</td>\n",
              "      <td>4583</td>\n",
              "      <td>1508.0</td>\n",
              "      <td>128.0</td>\n",
              "      <td>360.0</td>\n",
              "      <td>1</td>\n",
              "      <td>0</td>\n",
              "      <td>1</td>\n",
              "      <td>0</td>\n",
              "      <td>0</td>\n",
              "      <td>0</td>\n",
              "      <td>1</td>\n",
              "      <td>0</td>\n",
              "      <td>0</td>\n",
              "    </tr>\n",
              "  </tbody>\n",
              "</table>\n",
              "</div>"
            ],
            "text/plain": [
              "   Gender_Male  Married  Graduate  ...  Dependents_1  Dependents_2  Dependents_3\n",
              "0            1        0         1  ...             0             0             0\n",
              "1            1        1         1  ...             1             0             0\n",
              "\n",
              "[2 rows x 17 columns]"
            ]
          },
          "metadata": {
            "tags": []
          },
          "execution_count": 19
        }
      ]
    },
    {
      "cell_type": "markdown",
      "metadata": {
        "id": "kO38zz_lvQlb"
      },
      "source": [
        "### Data Partition"
      ]
    },
    {
      "cell_type": "code",
      "metadata": {
        "id": "Pq-bHTPlJ2Fn"
      },
      "source": [
        "#Seperate the target vaiable\n",
        "x = train.drop('Eligible',1)\n",
        "y = train.Eligible"
      ],
      "execution_count": 20,
      "outputs": []
    },
    {
      "cell_type": "markdown",
      "metadata": {
        "id": "B2kDu-VHJ2Fn"
      },
      "source": [
        "    "
      ]
    },
    {
      "cell_type": "code",
      "metadata": {
        "id": "m4VrDseVJ2Fn"
      },
      "source": [
        "#splitting the data in training and testing set\n",
        "from sklearn.model_selection import train_test_split\n",
        "x_train, x_test, y_train, y_test = train_test_split(x,y, test_size=0.2, random_state=123)"
      ],
      "execution_count": 21,
      "outputs": []
    },
    {
      "cell_type": "code",
      "metadata": {
        "id": "SzRQ8H5EJ2Fo",
        "colab": {
          "base_uri": "https://localhost:8080/",
          "height": 0
        },
        "outputId": "5b2f138b-e28b-46a8-d2a4-dd1df3a9fe0e"
      },
      "source": [
        "x_train.head(2)"
      ],
      "execution_count": 22,
      "outputs": [
        {
          "output_type": "execute_result",
          "data": {
            "text/html": [
              "<div>\n",
              "<style scoped>\n",
              "    .dataframe tbody tr th:only-of-type {\n",
              "        vertical-align: middle;\n",
              "    }\n",
              "\n",
              "    .dataframe tbody tr th {\n",
              "        vertical-align: top;\n",
              "    }\n",
              "\n",
              "    .dataframe thead th {\n",
              "        text-align: right;\n",
              "    }\n",
              "</style>\n",
              "<table border=\"1\" class=\"dataframe\">\n",
              "  <thead>\n",
              "    <tr style=\"text-align: right;\">\n",
              "      <th></th>\n",
              "      <th>Gender_Male</th>\n",
              "      <th>Married</th>\n",
              "      <th>Graduate</th>\n",
              "      <th>Self_Employed</th>\n",
              "      <th>ApplicantIncome</th>\n",
              "      <th>CoapplicantIncome</th>\n",
              "      <th>LoanAmount</th>\n",
              "      <th>Loan_Amount_Term</th>\n",
              "      <th>Credit_History</th>\n",
              "      <th>Rural_Property</th>\n",
              "      <th>Semiurban_Property</th>\n",
              "      <th>Urban_Property</th>\n",
              "      <th>Dependents_0</th>\n",
              "      <th>Dependents_1</th>\n",
              "      <th>Dependents_2</th>\n",
              "      <th>Dependents_3</th>\n",
              "    </tr>\n",
              "  </thead>\n",
              "  <tbody>\n",
              "    <tr>\n",
              "      <th>579</th>\n",
              "      <td>1</td>\n",
              "      <td>0</td>\n",
              "      <td>1</td>\n",
              "      <td>0</td>\n",
              "      <td>3182</td>\n",
              "      <td>2917.0</td>\n",
              "      <td>161.0</td>\n",
              "      <td>360.0</td>\n",
              "      <td>1</td>\n",
              "      <td>0</td>\n",
              "      <td>0</td>\n",
              "      <td>1</td>\n",
              "      <td>1</td>\n",
              "      <td>0</td>\n",
              "      <td>0</td>\n",
              "      <td>0</td>\n",
              "    </tr>\n",
              "    <tr>\n",
              "      <th>199</th>\n",
              "      <td>1</td>\n",
              "      <td>0</td>\n",
              "      <td>1</td>\n",
              "      <td>1</td>\n",
              "      <td>11000</td>\n",
              "      <td>0.0</td>\n",
              "      <td>83.0</td>\n",
              "      <td>360.0</td>\n",
              "      <td>1</td>\n",
              "      <td>0</td>\n",
              "      <td>0</td>\n",
              "      <td>1</td>\n",
              "      <td>1</td>\n",
              "      <td>0</td>\n",
              "      <td>0</td>\n",
              "      <td>0</td>\n",
              "    </tr>\n",
              "  </tbody>\n",
              "</table>\n",
              "</div>"
            ],
            "text/plain": [
              "     Gender_Male  Married  Graduate  ...  Dependents_1  Dependents_2  Dependents_3\n",
              "579            1        0         1  ...             0             0             0\n",
              "199            1        0         1  ...             0             0             0\n",
              "\n",
              "[2 rows x 16 columns]"
            ]
          },
          "metadata": {
            "tags": []
          },
          "execution_count": 22
        }
      ]
    },
    {
      "cell_type": "markdown",
      "metadata": {
        "id": "ZWnc9ZHpJ2Fo"
      },
      "source": [
        "## Data Before and After"
      ]
    },
    {
      "cell_type": "code",
      "metadata": {
        "id": "3rICI2dyNsW-",
        "colab": {
          "base_uri": "https://localhost:8080/",
          "height": 240
        },
        "outputId": "3fe0ebf2-72ee-489f-fa2d-30f3a6e04c79"
      },
      "source": [
        "raw.head(5)"
      ],
      "execution_count": null,
      "outputs": [
        {
          "output_type": "execute_result",
          "data": {
            "text/html": [
              "<div>\n",
              "<style scoped>\n",
              "    .dataframe tbody tr th:only-of-type {\n",
              "        vertical-align: middle;\n",
              "    }\n",
              "\n",
              "    .dataframe tbody tr th {\n",
              "        vertical-align: top;\n",
              "    }\n",
              "\n",
              "    .dataframe thead th {\n",
              "        text-align: right;\n",
              "    }\n",
              "</style>\n",
              "<table border=\"1\" class=\"dataframe\">\n",
              "  <thead>\n",
              "    <tr style=\"text-align: right;\">\n",
              "      <th></th>\n",
              "      <th>Loan_ID</th>\n",
              "      <th>Gender</th>\n",
              "      <th>Married</th>\n",
              "      <th>Dependents</th>\n",
              "      <th>Education</th>\n",
              "      <th>Self_Employed</th>\n",
              "      <th>ApplicantIncome</th>\n",
              "      <th>CoapplicantIncome</th>\n",
              "      <th>LoanAmount</th>\n",
              "      <th>Loan_Amount_Term</th>\n",
              "      <th>Credit_History</th>\n",
              "      <th>Property_Area</th>\n",
              "      <th>Loan_Status</th>\n",
              "    </tr>\n",
              "  </thead>\n",
              "  <tbody>\n",
              "    <tr>\n",
              "      <th>0</th>\n",
              "      <td>LP001002</td>\n",
              "      <td>Male</td>\n",
              "      <td>No</td>\n",
              "      <td>0</td>\n",
              "      <td>Graduate</td>\n",
              "      <td>No</td>\n",
              "      <td>5849</td>\n",
              "      <td>0.0</td>\n",
              "      <td>NaN</td>\n",
              "      <td>360.0</td>\n",
              "      <td>1.0</td>\n",
              "      <td>Urban</td>\n",
              "      <td>Y</td>\n",
              "    </tr>\n",
              "    <tr>\n",
              "      <th>1</th>\n",
              "      <td>LP001003</td>\n",
              "      <td>Male</td>\n",
              "      <td>Yes</td>\n",
              "      <td>1</td>\n",
              "      <td>Graduate</td>\n",
              "      <td>No</td>\n",
              "      <td>4583</td>\n",
              "      <td>1508.0</td>\n",
              "      <td>128.0</td>\n",
              "      <td>360.0</td>\n",
              "      <td>1.0</td>\n",
              "      <td>Rural</td>\n",
              "      <td>N</td>\n",
              "    </tr>\n",
              "    <tr>\n",
              "      <th>2</th>\n",
              "      <td>LP001005</td>\n",
              "      <td>Male</td>\n",
              "      <td>Yes</td>\n",
              "      <td>0</td>\n",
              "      <td>Graduate</td>\n",
              "      <td>Yes</td>\n",
              "      <td>3000</td>\n",
              "      <td>0.0</td>\n",
              "      <td>66.0</td>\n",
              "      <td>360.0</td>\n",
              "      <td>1.0</td>\n",
              "      <td>Urban</td>\n",
              "      <td>Y</td>\n",
              "    </tr>\n",
              "    <tr>\n",
              "      <th>3</th>\n",
              "      <td>LP001006</td>\n",
              "      <td>Male</td>\n",
              "      <td>Yes</td>\n",
              "      <td>0</td>\n",
              "      <td>Not Graduate</td>\n",
              "      <td>No</td>\n",
              "      <td>2583</td>\n",
              "      <td>2358.0</td>\n",
              "      <td>120.0</td>\n",
              "      <td>360.0</td>\n",
              "      <td>1.0</td>\n",
              "      <td>Urban</td>\n",
              "      <td>Y</td>\n",
              "    </tr>\n",
              "    <tr>\n",
              "      <th>4</th>\n",
              "      <td>LP001008</td>\n",
              "      <td>Male</td>\n",
              "      <td>No</td>\n",
              "      <td>0</td>\n",
              "      <td>Graduate</td>\n",
              "      <td>No</td>\n",
              "      <td>6000</td>\n",
              "      <td>0.0</td>\n",
              "      <td>141.0</td>\n",
              "      <td>360.0</td>\n",
              "      <td>1.0</td>\n",
              "      <td>Urban</td>\n",
              "      <td>Y</td>\n",
              "    </tr>\n",
              "  </tbody>\n",
              "</table>\n",
              "</div>"
            ],
            "text/plain": [
              "    Loan_ID Gender Married  ... Credit_History Property_Area Loan_Status\n",
              "0  LP001002   Male      No  ...            1.0         Urban           Y\n",
              "1  LP001003   Male     Yes  ...            1.0         Rural           N\n",
              "2  LP001005   Male     Yes  ...            1.0         Urban           Y\n",
              "3  LP001006   Male     Yes  ...            1.0         Urban           Y\n",
              "4  LP001008   Male      No  ...            1.0         Urban           Y\n",
              "\n",
              "[5 rows x 13 columns]"
            ]
          },
          "metadata": {
            "tags": []
          },
          "execution_count": 24
        }
      ]
    },
    {
      "cell_type": "code",
      "metadata": {
        "id": "IPd5fp22NzjT",
        "colab": {
          "base_uri": "https://localhost:8080/",
          "height": 223
        },
        "outputId": "e3fba22d-aa74-4b39-f745-7c924c894c49"
      },
      "source": [
        "train.head(5)"
      ],
      "execution_count": null,
      "outputs": [
        {
          "output_type": "execute_result",
          "data": {
            "text/html": [
              "<div>\n",
              "<style scoped>\n",
              "    .dataframe tbody tr th:only-of-type {\n",
              "        vertical-align: middle;\n",
              "    }\n",
              "\n",
              "    .dataframe tbody tr th {\n",
              "        vertical-align: top;\n",
              "    }\n",
              "\n",
              "    .dataframe thead th {\n",
              "        text-align: right;\n",
              "    }\n",
              "</style>\n",
              "<table border=\"1\" class=\"dataframe\">\n",
              "  <thead>\n",
              "    <tr style=\"text-align: right;\">\n",
              "      <th></th>\n",
              "      <th>Gender_Male</th>\n",
              "      <th>Married</th>\n",
              "      <th>Graduate</th>\n",
              "      <th>Self_Employed</th>\n",
              "      <th>ApplicantIncome</th>\n",
              "      <th>CoapplicantIncome</th>\n",
              "      <th>LoanAmount</th>\n",
              "      <th>Loan_Amount_Term</th>\n",
              "      <th>Credit_History</th>\n",
              "      <th>Eligible</th>\n",
              "      <th>Rural_Property</th>\n",
              "      <th>Semiurban_Property</th>\n",
              "      <th>Urban_Property</th>\n",
              "      <th>Dependents_0</th>\n",
              "      <th>Dependents_1</th>\n",
              "      <th>Dependents_2</th>\n",
              "      <th>Dependents_3</th>\n",
              "    </tr>\n",
              "  </thead>\n",
              "  <tbody>\n",
              "    <tr>\n",
              "      <th>0</th>\n",
              "      <td>1</td>\n",
              "      <td>0</td>\n",
              "      <td>1</td>\n",
              "      <td>0</td>\n",
              "      <td>5849</td>\n",
              "      <td>0.0</td>\n",
              "      <td>128.0</td>\n",
              "      <td>360.0</td>\n",
              "      <td>1</td>\n",
              "      <td>1</td>\n",
              "      <td>0</td>\n",
              "      <td>0</td>\n",
              "      <td>1</td>\n",
              "      <td>1</td>\n",
              "      <td>0</td>\n",
              "      <td>0</td>\n",
              "      <td>0</td>\n",
              "    </tr>\n",
              "    <tr>\n",
              "      <th>1</th>\n",
              "      <td>1</td>\n",
              "      <td>1</td>\n",
              "      <td>1</td>\n",
              "      <td>0</td>\n",
              "      <td>4583</td>\n",
              "      <td>1508.0</td>\n",
              "      <td>128.0</td>\n",
              "      <td>360.0</td>\n",
              "      <td>1</td>\n",
              "      <td>0</td>\n",
              "      <td>1</td>\n",
              "      <td>0</td>\n",
              "      <td>0</td>\n",
              "      <td>0</td>\n",
              "      <td>1</td>\n",
              "      <td>0</td>\n",
              "      <td>0</td>\n",
              "    </tr>\n",
              "    <tr>\n",
              "      <th>2</th>\n",
              "      <td>1</td>\n",
              "      <td>1</td>\n",
              "      <td>1</td>\n",
              "      <td>1</td>\n",
              "      <td>3000</td>\n",
              "      <td>0.0</td>\n",
              "      <td>66.0</td>\n",
              "      <td>360.0</td>\n",
              "      <td>1</td>\n",
              "      <td>1</td>\n",
              "      <td>0</td>\n",
              "      <td>0</td>\n",
              "      <td>1</td>\n",
              "      <td>1</td>\n",
              "      <td>0</td>\n",
              "      <td>0</td>\n",
              "      <td>0</td>\n",
              "    </tr>\n",
              "    <tr>\n",
              "      <th>3</th>\n",
              "      <td>1</td>\n",
              "      <td>1</td>\n",
              "      <td>0</td>\n",
              "      <td>0</td>\n",
              "      <td>2583</td>\n",
              "      <td>2358.0</td>\n",
              "      <td>120.0</td>\n",
              "      <td>360.0</td>\n",
              "      <td>1</td>\n",
              "      <td>1</td>\n",
              "      <td>0</td>\n",
              "      <td>0</td>\n",
              "      <td>1</td>\n",
              "      <td>1</td>\n",
              "      <td>0</td>\n",
              "      <td>0</td>\n",
              "      <td>0</td>\n",
              "    </tr>\n",
              "    <tr>\n",
              "      <th>4</th>\n",
              "      <td>1</td>\n",
              "      <td>0</td>\n",
              "      <td>1</td>\n",
              "      <td>0</td>\n",
              "      <td>6000</td>\n",
              "      <td>0.0</td>\n",
              "      <td>141.0</td>\n",
              "      <td>360.0</td>\n",
              "      <td>1</td>\n",
              "      <td>1</td>\n",
              "      <td>0</td>\n",
              "      <td>0</td>\n",
              "      <td>1</td>\n",
              "      <td>1</td>\n",
              "      <td>0</td>\n",
              "      <td>0</td>\n",
              "      <td>0</td>\n",
              "    </tr>\n",
              "  </tbody>\n",
              "</table>\n",
              "</div>"
            ],
            "text/plain": [
              "   Gender_Male  Married  Graduate  ...  Dependents_1  Dependents_2  Dependents_3\n",
              "0            1        0         1  ...             0             0             0\n",
              "1            1        1         1  ...             1             0             0\n",
              "2            1        1         1  ...             0             0             0\n",
              "3            1        1         0  ...             0             0             0\n",
              "4            1        0         1  ...             0             0             0\n",
              "\n",
              "[5 rows x 17 columns]"
            ]
          },
          "metadata": {
            "tags": []
          },
          "execution_count": 25
        }
      ]
    },
    {
      "cell_type": "markdown",
      "metadata": {
        "id": "UMjkOp4WN4A6"
      },
      "source": [
        "## **Models**"
      ]
    },
    {
      "cell_type": "markdown",
      "metadata": {
        "id": "NKdgM9xqxqb-"
      },
      "source": [
        "## <font color='chocolate'>**1. Logistic Regression**</font>"
      ]
    },
    {
      "cell_type": "code",
      "metadata": {
        "id": "EGT-Zek_yNEk",
        "colab": {
          "base_uri": "https://localhost:8080/"
        },
        "outputId": "be854121-e3a9-40e9-cf6c-4610a15b3e3c"
      },
      "source": [
        "from sklearn.linear_model import LogisticRegression\n",
        "from sklearn.metrics import accuracy_score\n",
        "lrmodel = LogisticRegression()\n",
        "lrmodel.fit(x_train, y_train)"
      ],
      "execution_count": 56,
      "outputs": [
        {
          "output_type": "execute_result",
          "data": {
            "text/plain": [
              "LogisticRegression(C=1.0, class_weight=None, dual=False, fit_intercept=True,\n",
              "                   intercept_scaling=1, l1_ratio=None, max_iter=100,\n",
              "                   multi_class='auto', n_jobs=None, penalty='l2',\n",
              "                   random_state=None, solver='lbfgs', tol=0.0001, verbose=0,\n",
              "                   warm_start=False)"
            ]
          },
          "metadata": {
            "tags": []
          },
          "execution_count": 56
        }
      ]
    },
    {
      "cell_type": "markdown",
      "metadata": {
        "id": "RDFK7RsFyPDp"
      },
      "source": [
        "The C parameter represents inverse of regularization strength. Regularization \n",
        "is applying a penalty to increasing the magnitude of parameter values in order to reduce overfitting. Smaller values of C specify stronger regularization."
      ]
    },
    {
      "cell_type": "code",
      "metadata": {
        "id": "SPohSDFZyXAh",
        "colab": {
          "base_uri": "https://localhost:8080/"
        },
        "outputId": "a9b06598-f7e2-4682-dea8-61ac22c8661a"
      },
      "source": [
        "#Let’s predict the 'Eligibility' for testing set and calculate its accuracy.\n",
        "lrpred = lrmodel.predict(x_test)\n",
        "accuracy_score(y_test,lrpred)"
      ],
      "execution_count": 57,
      "outputs": [
        {
          "output_type": "execute_result",
          "data": {
            "text/plain": [
              "0.7804878048780488"
            ]
          },
          "metadata": {
            "tags": []
          },
          "execution_count": 57
        }
      ]
    },
    {
      "cell_type": "markdown",
      "metadata": {
        "id": "MmybDRYlyX28"
      },
      "source": [
        ">>## LIME"
      ]
    },
    {
      "cell_type": "code",
      "metadata": {
        "id": "kn6E1_tyzZcC"
      },
      "source": [
        "#Install LIME\n",
        "!pip install lime "
      ],
      "execution_count": null,
      "outputs": []
    },
    {
      "cell_type": "code",
      "metadata": {
        "id": "qgXXwyNczg9m"
      },
      "source": [
        "#Import LIME and create an explainer object\n",
        "import lime\n",
        "from lime import lime_tabular"
      ],
      "execution_count": null,
      "outputs": []
    },
    {
      "cell_type": "code",
      "metadata": {
        "id": "CQcKkvrrQC4X"
      },
      "source": [
        "LIMEexplainer = lime_tabular.LimeTabularExplainer(\n",
        "    training_data=np.array(x_train),\n",
        "    feature_names=x_train.columns,\n",
        "    mode='classification'\n",
        ")"
      ],
      "execution_count": 55,
      "outputs": []
    },
    {
      "cell_type": "code",
      "metadata": {
        "id": "CsDgDYcZ1L5f"
      },
      "source": [
        "#test case\n",
        "x_test.iloc[3]"
      ],
      "execution_count": null,
      "outputs": []
    },
    {
      "cell_type": "code",
      "metadata": {
        "id": "r9Mbprz11Nim"
      },
      "source": [
        "#original outcome\n",
        "raw[raw.ApplicantIncome == 4707]"
      ],
      "execution_count": null,
      "outputs": []
    },
    {
      "cell_type": "code",
      "metadata": {
        "id": "9lOigQclybi1"
      },
      "source": [
        "#Create an instance of explainer\n",
        "exp = LIMEexplainer.explain_instance(\n",
        "    data_row=x_test.iloc[3],\n",
        "    predict_fn=lrmodel.predict_proba\n",
        ")\n",
        "\n",
        "exp.show_in_notebook(show_table=True)\n",
        "exp.as_list()"
      ],
      "execution_count": null,
      "outputs": []
    },
    {
      "cell_type": "markdown",
      "metadata": {
        "id": "OS_d4uNAygKh"
      },
      "source": [
        ">>## SHAP"
      ]
    },
    {
      "cell_type": "code",
      "metadata": {
        "id": "QpQnA7AGzOry"
      },
      "source": [
        "#Install SHAP\n",
        "!pip install shap"
      ],
      "execution_count": null,
      "outputs": []
    },
    {
      "cell_type": "code",
      "metadata": {
        "id": "zGfPZrnAzPVt"
      },
      "source": [
        "#import SHAP\n",
        "import shap"
      ],
      "execution_count": null,
      "outputs": []
    },
    {
      "cell_type": "code",
      "metadata": {
        "id": "cCifcysCymSw"
      },
      "source": [
        "lrSHAPexplainer = shap.LinearExplainer(lrmodel, x_train)\n",
        "lrshap_values = lrSHAPexplainer.shap_values(x_test)"
      ],
      "execution_count": null,
      "outputs": []
    },
    {
      "cell_type": "code",
      "metadata": {
        "id": "JjxtNgmlyolW"
      },
      "source": [
        "shap.summary_plot(lrshap_values, x_test, plot_type=\"bar\")"
      ],
      "execution_count": null,
      "outputs": []
    },
    {
      "cell_type": "code",
      "metadata": {
        "id": "5STzFRU1yq7j"
      },
      "source": [
        "shap.initjs()\n",
        "shap.force_plot(lrSHAPexplainer.expected_value,lrshap_values[0],x_test.iloc[3,:])"
      ],
      "execution_count": null,
      "outputs": []
    },
    {
      "cell_type": "markdown",
      "metadata": {
        "id": "LS_rRHWlyvRq"
      },
      "source": [
        ">>## Dashboard"
      ]
    },
    {
      "cell_type": "code",
      "metadata": {
        "id": "VwaRegwxzBf6"
      },
      "source": [
        "#Install explainer dashboard\n",
        "!pip install explainerdashboard"
      ],
      "execution_count": null,
      "outputs": []
    },
    {
      "cell_type": "code",
      "metadata": {
        "id": "B5SvXeUezCJL"
      },
      "source": [
        "#Import all the required libraries from Dashboards\n",
        "from explainerdashboard import ClassifierExplainer, ExplainerDashboard, ExplainerHub"
      ],
      "execution_count": null,
      "outputs": []
    },
    {
      "cell_type": "code",
      "metadata": {
        "id": "dwOTOGGPywOq"
      },
      "source": [
        "lrmodel.fit(x_train, y_train)\n",
        "\n",
        "lrSHAPexplainer = ClassifierExplainer(lrmodel, x_test, y_test)\n",
        "db1 = ExplainerDashboard(lrSHAPexplainer, title=\"Loan Eligibility\",\n",
        "                    whatif=True, # you can switch off tabs with bools\n",
        "                    shap_interaction=False,\n",
        "                    decision_trees=False )\n",
        "db1.run()\n"
      ],
      "execution_count": null,
      "outputs": []
    },
    {
      "cell_type": "markdown",
      "metadata": {
        "id": "lhN4AvRjOcSI"
      },
      "source": [
        ">>## Counterfactuals"
      ]
    },
    {
      "cell_type": "markdown",
      "metadata": {
        "id": "3dGqns0IO_Eg"
      },
      "source": [
        ">>#### Install Counterfactuals"
      ]
    },
    {
      "cell_type": "code",
      "metadata": {
        "id": "yRTzVp80ObWB"
      },
      "source": [
        "#First time installation\n",
        "!pip install dice-ml"
      ],
      "execution_count": null,
      "outputs": []
    },
    {
      "cell_type": "code",
      "metadata": {
        "id": "2gIfayW-OuJ4"
      },
      "source": [
        "#import the dice library\n",
        "import dice_ml"
      ],
      "execution_count": null,
      "outputs": []
    },
    {
      "cell_type": "markdown",
      "metadata": {
        "id": "l89Wfp2oPFAv"
      },
      "source": [
        ">>#### Change datatype of the variables"
      ]
    },
    {
      "cell_type": "code",
      "metadata": {
        "id": "amyiVsDMO0WY"
      },
      "source": [
        "train.dtypes"
      ],
      "execution_count": null,
      "outputs": []
    },
    {
      "cell_type": "code",
      "metadata": {
        "id": "OyQp0lu7O1Tw"
      },
      "source": [
        "#Change datatype to integer\n",
        "train['Rural_Property'] = train['Rural_Property'].astype('int') \n",
        "train['Semiurban_Property'] = train['Semiurban_Property'].astype('int') \n",
        "train['Urban_Property'] = train['Urban_Property'].astype('int') \n",
        "train['Dependents_0'] = train['Dependents_0'].astype('int') \n",
        "train['Dependents_1'] = train['Dependents_1'].astype('int') \n",
        "train['Dependents_2'] = train['Dependents_1'].astype('int') \n",
        "train['Dependents_3'] = train['Dependents_1'].astype('int') \n",
        "train['CoapplicantIncome'] = train['CoapplicantIncome'].astype('int') \n",
        "train['LoanAmount'] = train['LoanAmount'].astype('int') \n",
        "train['Loan_Amount_Term'] = train['Loan_Amount_Term'].astype('int') "
      ],
      "execution_count": null,
      "outputs": []
    },
    {
      "cell_type": "markdown",
      "metadata": {
        "id": "bawafioNPRAo"
      },
      "source": [
        ">> #### Create Counterfactuals"
      ]
    },
    {
      "cell_type": "code",
      "metadata": {
        "id": "wxbKwyJiO4jI"
      },
      "source": [
        "#Data\n",
        "data_dice = dice_ml.Data(dataframe=train, \n",
        "                         continuous_features=['ApplicantIncome','CoapplicantIncome','LoanAmount','Loan_Amount_Term'], \n",
        "                         outcome_name='Eligible')"
      ],
      "execution_count": null,
      "outputs": []
    },
    {
      "cell_type": "code",
      "metadata": {
        "id": "xw9j17TBPXbo"
      },
      "source": [
        "#Model\n",
        "lr_dice = dice_ml.Model(model=lrmodel, backend=\"sklearn\")"
      ],
      "execution_count": null,
      "outputs": []
    },
    {
      "cell_type": "code",
      "metadata": {
        "id": "Y_iqdrknPaJf"
      },
      "source": [
        "#explainer\n",
        "lrexplainer = dice_ml.Dice(data_dice, \n",
        "                         lr_dice, \n",
        "                         method=\"random\")"
      ],
      "execution_count": null,
      "outputs": []
    },
    {
      "cell_type": "code",
      "metadata": {
        "id": "Pp1hhXyxPcVv"
      },
      "source": [
        "#explanations\n",
        "cf = lrexplainer.generate_counterfactuals(x_test[4:5], \n",
        "                                  total_CFs=10, \n",
        "                                  desired_class=\"opposite\")"
      ],
      "execution_count": null,
      "outputs": []
    },
    {
      "cell_type": "code",
      "metadata": {
        "id": "tGfsQKpRPgj_"
      },
      "source": [
        "# Visualize it\n",
        "cf.visualize_as_dataframe(show_only_changes=True)"
      ],
      "execution_count": null,
      "outputs": []
    },
    {
      "cell_type": "markdown",
      "metadata": {
        "id": "YBTxAOsoPwYB"
      },
      "source": [
        ">>#### Control Counterfactuals features and Range of Values"
      ]
    },
    {
      "cell_type": "code",
      "metadata": {
        "id": "8n-CmhX_QKpj"
      },
      "source": [
        "#Create feasible (conditional) Counterfactuals\n",
        "features_to_vary=['Credit_History','Loan_Amount_Term','Graduate']\n",
        "#permitted_range={'ApplicantIncome':[1000,6000],\n",
        "                #'CoapplicantIncome':[1000, 5000]}\n",
        "# Now generating explanations using the new feature weights\n",
        "cf = lrexplainer.generate_counterfactuals(x_test[4:5], \n",
        "                                  total_CFs=5, \n",
        "                                  desired_class=\"opposite\",\n",
        "                                  features_to_vary=features_to_vary)\n",
        "\n",
        "# Visualize it\n",
        "cf.visualize_as_dataframe(show_only_changes=True)"
      ],
      "execution_count": null,
      "outputs": []
    },
    {
      "cell_type": "markdown",
      "metadata": {
        "id": "WU_fkGPkJ2Fo"
      },
      "source": [
        "## <font color='chocolate'>**2. Random Forest**"
      ]
    },
    {
      "cell_type": "code",
      "metadata": {
        "id": "KeZaDpheJ2Fp"
      },
      "source": [
        "# Import RandomForestClassifier \n",
        "from sklearn.ensemble import RandomForestClassifier\n",
        "\n",
        "from sklearn.metrics import confusion_matrix, accuracy_score"
      ],
      "execution_count": 23,
      "outputs": []
    },
    {
      "cell_type": "code",
      "metadata": {
        "colab": {
          "base_uri": "https://localhost:8080/"
        },
        "id": "IH7Qr18iJ2Fp",
        "outputId": "732acd17-3270-44dc-bf2d-1830629bee64"
      },
      "source": [
        "#Let's list the tunable hyperparameters for Random Forest algorithm\n",
        "RandomForestClassifier().get_params()"
      ],
      "execution_count": 24,
      "outputs": [
        {
          "output_type": "execute_result",
          "data": {
            "text/plain": [
              "{'bootstrap': True,\n",
              " 'ccp_alpha': 0.0,\n",
              " 'class_weight': None,\n",
              " 'criterion': 'gini',\n",
              " 'max_depth': None,\n",
              " 'max_features': 'auto',\n",
              " 'max_leaf_nodes': None,\n",
              " 'max_samples': None,\n",
              " 'min_impurity_decrease': 0.0,\n",
              " 'min_impurity_split': None,\n",
              " 'min_samples_leaf': 1,\n",
              " 'min_samples_split': 2,\n",
              " 'min_weight_fraction_leaf': 0.0,\n",
              " 'n_estimators': 100,\n",
              " 'n_jobs': None,\n",
              " 'oob_score': False,\n",
              " 'random_state': None,\n",
              " 'verbose': 0,\n",
              " 'warm_start': False}"
            ]
          },
          "metadata": {
            "tags": []
          },
          "execution_count": 24
        }
      ]
    },
    {
      "cell_type": "markdown",
      "metadata": {
        "id": "Qynt51fiJ2Fp"
      },
      "source": [
        "For random forests,\n",
        "\n",
        "* The first hyperparameter to tune is n_estimators. We will try 100 and 200.\n",
        "\n",
        "* The second one is max_features. Let's try - 'auto', 'sqrt', and 0.33.\n",
        "\n",
        "* The third one is min_samples_leaf. Let's try - 1, 3, 5, 10"
      ]
    },
    {
      "cell_type": "code",
      "metadata": {
        "colab": {
          "base_uri": "https://localhost:8080/"
        },
        "id": "xoCxdFxeJ2Fq",
        "outputId": "e2c955c9-fbd6-46cc-b72d-0282f916d82e"
      },
      "source": [
        "#Let's create a loop\n",
        "    \n",
        "for n in [100, 200]:\n",
        "     for m in ['auto', 'sqrt', 0.33]:\n",
        "            for l in [1, 3, 5, 10]:\n",
        "                modelrf = RandomForestClassifier(n_estimators=n, max_features=m, min_samples_leaf=l)\n",
        "                modelrf.fit(x_train, y_train)\n",
        "                rfpred = modelrf.predict(x_test)  \n",
        "                print('n =',n, 'm =',m , 'l =',l, 'Accuracy score:', np.round(accuracy_score(y_test, rfpred),3))\n",
        "                print(confusion_matrix(y_test, rfpred),'\\n')"
      ],
      "execution_count": 78,
      "outputs": [
        {
          "output_type": "stream",
          "text": [
            "n = 100 m = auto l = 1 Accuracy score: 0.797\n",
            "[[19 23]\n",
            " [ 2 79]] \n",
            "\n",
            "n = 100 m = auto l = 3 Accuracy score: 0.78\n",
            "[[17 25]\n",
            " [ 2 79]] \n",
            "\n",
            "n = 100 m = auto l = 5 Accuracy score: 0.78\n",
            "[[17 25]\n",
            " [ 2 79]] \n",
            "\n",
            "n = 100 m = auto l = 10 Accuracy score: 0.78\n",
            "[[17 25]\n",
            " [ 2 79]] \n",
            "\n",
            "n = 100 m = sqrt l = 1 Accuracy score: 0.772\n",
            "[[19 23]\n",
            " [ 5 76]] \n",
            "\n",
            "n = 100 m = sqrt l = 3 Accuracy score: 0.78\n",
            "[[17 25]\n",
            " [ 2 79]] \n",
            "\n",
            "n = 100 m = sqrt l = 5 Accuracy score: 0.78\n",
            "[[17 25]\n",
            " [ 2 79]] \n",
            "\n",
            "n = 100 m = sqrt l = 10 Accuracy score: 0.78\n",
            "[[17 25]\n",
            " [ 2 79]] \n",
            "\n",
            "n = 100 m = 0.33 l = 1 Accuracy score: 0.789\n",
            "[[19 23]\n",
            " [ 3 78]] \n",
            "\n",
            "n = 100 m = 0.33 l = 3 Accuracy score: 0.789\n",
            "[[18 24]\n",
            " [ 2 79]] \n",
            "\n",
            "n = 100 m = 0.33 l = 5 Accuracy score: 0.78\n",
            "[[17 25]\n",
            " [ 2 79]] \n",
            "\n",
            "n = 100 m = 0.33 l = 10 Accuracy score: 0.78\n",
            "[[17 25]\n",
            " [ 2 79]] \n",
            "\n",
            "n = 200 m = auto l = 1 Accuracy score: 0.78\n",
            "[[19 23]\n",
            " [ 4 77]] \n",
            "\n",
            "n = 200 m = auto l = 3 Accuracy score: 0.78\n",
            "[[17 25]\n",
            " [ 2 79]] \n",
            "\n",
            "n = 200 m = auto l = 5 Accuracy score: 0.78\n",
            "[[17 25]\n",
            " [ 2 79]] \n",
            "\n",
            "n = 200 m = auto l = 10 Accuracy score: 0.78\n",
            "[[17 25]\n",
            " [ 2 79]] \n",
            "\n",
            "n = 200 m = sqrt l = 1 Accuracy score: 0.78\n",
            "[[20 22]\n",
            " [ 5 76]] \n",
            "\n",
            "n = 200 m = sqrt l = 3 Accuracy score: 0.78\n",
            "[[17 25]\n",
            " [ 2 79]] \n",
            "\n",
            "n = 200 m = sqrt l = 5 Accuracy score: 0.78\n",
            "[[17 25]\n",
            " [ 2 79]] \n",
            "\n",
            "n = 200 m = sqrt l = 10 Accuracy score: 0.78\n",
            "[[17 25]\n",
            " [ 2 79]] \n",
            "\n",
            "n = 200 m = 0.33 l = 1 Accuracy score: 0.789\n",
            "[[19 23]\n",
            " [ 3 78]] \n",
            "\n",
            "n = 200 m = 0.33 l = 3 Accuracy score: 0.78\n",
            "[[17 25]\n",
            " [ 2 79]] \n",
            "\n",
            "n = 200 m = 0.33 l = 5 Accuracy score: 0.78\n",
            "[[17 25]\n",
            " [ 2 79]] \n",
            "\n",
            "n = 200 m = 0.33 l = 10 Accuracy score: 0.78\n",
            "[[17 25]\n",
            " [ 2 79]] \n",
            "\n"
          ],
          "name": "stdout"
        }
      ]
    },
    {
      "cell_type": "markdown",
      "metadata": {
        "id": "8YheSpaOqe54"
      },
      "source": [
        ">>## LIME"
      ]
    },
    {
      "cell_type": "code",
      "metadata": {
        "id": "wTG9DyyJQImk"
      },
      "source": [
        "#Install LIME\n",
        "!pip install lime "
      ],
      "execution_count": null,
      "outputs": []
    },
    {
      "cell_type": "code",
      "metadata": {
        "id": "SYWp5V92QMNX"
      },
      "source": [
        "#Import LIME and create an explainer object\n",
        "import lime\n",
        "from lime import lime_tabular\n",
        "LIMEexplainer = lime_tabular.LimeTabularExplainer(\n",
        "    training_data=np.array(x_train),\n",
        "    feature_names=x_train.columns,\n",
        "    mode='classification'\n",
        ")"
      ],
      "execution_count": 27,
      "outputs": []
    },
    {
      "cell_type": "code",
      "metadata": {
        "id": "1EjN7CqxrPJb"
      },
      "source": [
        "#We'll look at an individual record\n",
        "x_test.iloc[5]"
      ],
      "execution_count": null,
      "outputs": []
    },
    {
      "cell_type": "code",
      "metadata": {
        "id": "xiCgrBcUrTl4"
      },
      "source": [
        "#This is the actual record in the raw dataset\n",
        "raw[raw.ApplicantIncome == 2491]"
      ],
      "execution_count": null,
      "outputs": []
    },
    {
      "cell_type": "code",
      "metadata": {
        "id": "HscL4-S-rWt9"
      },
      "source": [
        "#Create an instance of explainer\n",
        "exp = LIMEexplainer.explain_instance(\n",
        "    data_row=x_test.iloc[5], \n",
        "    predict_fn=modelrf.predict_proba\n",
        ")\n",
        "\n",
        "exp.show_in_notebook(show_table=True)\n",
        "exp.as_list()"
      ],
      "execution_count": null,
      "outputs": []
    },
    {
      "cell_type": "markdown",
      "metadata": {
        "id": "VZs-0Lg-rviu"
      },
      "source": [
        ">>## SHAP"
      ]
    },
    {
      "cell_type": "code",
      "metadata": {
        "id": "JEvn8051Q7pm"
      },
      "source": [
        "#Install SHAP\n",
        "!pip install shap"
      ],
      "execution_count": null,
      "outputs": []
    },
    {
      "cell_type": "code",
      "metadata": {
        "id": "W_7hg9H-Q8Ux"
      },
      "source": [
        "#import SHAP\n",
        "import shap"
      ],
      "execution_count": 33,
      "outputs": []
    },
    {
      "cell_type": "code",
      "metadata": {
        "id": "7Y0M8uOxsCEk"
      },
      "source": [
        "#create SHAP explainer\n",
        "rfSHAPexplainer = shap.TreeExplainer(modelrf, x_train)\n",
        "rfchoosen_instance = x_test.iloc[[5]]\n",
        "rfshap_values = rfSHAPexplainer.shap_values(rfchoosen_instance)"
      ],
      "execution_count": 34,
      "outputs": []
    },
    {
      "cell_type": "code",
      "metadata": {
        "id": "GC27pwbpsKNL"
      },
      "source": [
        "#shap.summary_plot(rfshap_values, x_test, plot_type=\"bar\")"
      ],
      "execution_count": null,
      "outputs": []
    },
    {
      "cell_type": "code",
      "metadata": {
        "id": "xGDeGqPlsN2H"
      },
      "source": [
        "shap.initjs()\n",
        "shap.force_plot(rfSHAPexplainer.expected_value[1], rfshap_values[1], rfchoosen_instance)"
      ],
      "execution_count": null,
      "outputs": []
    },
    {
      "cell_type": "markdown",
      "metadata": {
        "id": "dKJI4WeDwfSd"
      },
      "source": [
        ">>## Dashboard"
      ]
    },
    {
      "cell_type": "code",
      "metadata": {
        "id": "jFccCjLTU6WU"
      },
      "source": [
        "#Install explainer dashboard\n",
        "!pip install explainerdashboard"
      ],
      "execution_count": null,
      "outputs": []
    },
    {
      "cell_type": "code",
      "metadata": {
        "id": "bfrPc1P_U7ZD"
      },
      "source": [
        "#Import all the required libraries from Dashboards\n",
        "from explainerdashboard import ClassifierExplainer, ExplainerDashboard, ExplainerHub"
      ],
      "execution_count": 37,
      "outputs": []
    },
    {
      "cell_type": "code",
      "metadata": {
        "id": "oNrvLu29wqkl"
      },
      "source": [
        "modelrf.fit(x_train, y_train)\n",
        "\n",
        "SHAPrfexplainer = ClassifierExplainer(modelrf, x_test, y_test)\n",
        "\n",
        "db2 = ExplainerDashboard(SHAPrfexplainer, mode='external' ,title=\"Loan Eligibility\",\n",
        "                    whatif=True, # you can switch off tabs with bools\n",
        "                    shap_interaction=False,\n",
        "                    decision_trees=False)\n",
        "db2.run()"
      ],
      "execution_count": null,
      "outputs": []
    },
    {
      "cell_type": "code",
      "metadata": {
        "id": "nnRT7-0OVdsY"
      },
      "source": [
        "#Eligible\n",
        "raw[raw.ApplicantIncome == 2491]"
      ],
      "execution_count": null,
      "outputs": []
    },
    {
      "cell_type": "code",
      "metadata": {
        "id": "ikE9MNFcWPXN"
      },
      "source": [
        "#Not eligible\n",
        "raw[raw.ApplicantIncome == 2645]"
      ],
      "execution_count": null,
      "outputs": []
    },
    {
      "cell_type": "markdown",
      "metadata": {
        "id": "Z6TkuFZcQpG2"
      },
      "source": [
        ">> ## Counterfactuals"
      ]
    },
    {
      "cell_type": "markdown",
      "metadata": {
        "id": "VOp9mdxiScj0"
      },
      "source": [
        ">>#### Install Counterfactuals"
      ]
    },
    {
      "cell_type": "code",
      "metadata": {
        "id": "d7jKx3QCSiAe",
        "colab": {
          "base_uri": "https://localhost:8080/"
        },
        "outputId": "a9b40186-4d49-462b-8640-ecd96d00781e"
      },
      "source": [
        "#First time installation\n",
        "!pip install dice-ml"
      ],
      "execution_count": 42,
      "outputs": [
        {
          "output_type": "stream",
          "text": [
            "Collecting dice-ml\n",
            "  Downloading dice_ml-0.6.1-py3-none-any.whl (231 kB)\n",
            "\u001b[?25l\r\u001b[K     |█▍                              | 10 kB 9.3 MB/s eta 0:00:01\r\u001b[K     |██▉                             | 20 kB 5.0 MB/s eta 0:00:01\r\u001b[K     |████▎                           | 30 kB 4.3 MB/s eta 0:00:01\r\u001b[K     |█████▋                          | 40 kB 2.4 MB/s eta 0:00:01\r\u001b[K     |███████                         | 51 kB 2.6 MB/s eta 0:00:01\r\u001b[K     |████████▌                       | 61 kB 2.7 MB/s eta 0:00:01\r\u001b[K     |██████████                      | 71 kB 3.0 MB/s eta 0:00:01\r\u001b[K     |███████████▎                    | 81 kB 3.3 MB/s eta 0:00:01\r\u001b[K     |████████████▊                   | 92 kB 3.6 MB/s eta 0:00:01\r\u001b[K     |██████████████▏                 | 102 kB 2.9 MB/s eta 0:00:01\r\u001b[K     |███████████████▋                | 112 kB 2.9 MB/s eta 0:00:01\r\u001b[K     |█████████████████               | 122 kB 2.9 MB/s eta 0:00:01\r\u001b[K     |██████████████████▍             | 133 kB 2.9 MB/s eta 0:00:01\r\u001b[K     |███████████████████▉            | 143 kB 2.9 MB/s eta 0:00:01\r\u001b[K     |█████████████████████▎          | 153 kB 2.9 MB/s eta 0:00:01\r\u001b[K     |██████████████████████▋         | 163 kB 2.9 MB/s eta 0:00:01\r\u001b[K     |████████████████████████        | 174 kB 2.9 MB/s eta 0:00:01\r\u001b[K     |█████████████████████████▌      | 184 kB 2.9 MB/s eta 0:00:01\r\u001b[K     |██████████████████████████▉     | 194 kB 2.9 MB/s eta 0:00:01\r\u001b[K     |████████████████████████████▎   | 204 kB 2.9 MB/s eta 0:00:01\r\u001b[K     |█████████████████████████████▊  | 215 kB 2.9 MB/s eta 0:00:01\r\u001b[K     |███████████████████████████████▏| 225 kB 2.9 MB/s eta 0:00:01\r\u001b[K     |████████████████████████████████| 231 kB 2.9 MB/s \n",
            "\u001b[?25hRequirement already satisfied: scikit-learn in /usr/local/lib/python3.7/dist-packages (from dice-ml) (0.22.2.post1)\n",
            "Requirement already satisfied: numpy in /usr/local/lib/python3.7/dist-packages (from dice-ml) (1.19.5)\n",
            "Requirement already satisfied: h5py in /usr/local/lib/python3.7/dist-packages (from dice-ml) (3.1.0)\n",
            "Requirement already satisfied: pandas in /usr/local/lib/python3.7/dist-packages (from dice-ml) (1.1.5)\n",
            "Requirement already satisfied: tqdm in /usr/local/lib/python3.7/dist-packages (from dice-ml) (4.41.1)\n",
            "Requirement already satisfied: cached-property in /usr/local/lib/python3.7/dist-packages (from h5py->dice-ml) (1.5.2)\n",
            "Requirement already satisfied: python-dateutil>=2.7.3 in /usr/local/lib/python3.7/dist-packages (from pandas->dice-ml) (2.8.1)\n",
            "Requirement already satisfied: pytz>=2017.2 in /usr/local/lib/python3.7/dist-packages (from pandas->dice-ml) (2018.9)\n",
            "Requirement already satisfied: six>=1.5 in /usr/local/lib/python3.7/dist-packages (from python-dateutil>=2.7.3->pandas->dice-ml) (1.15.0)\n",
            "Requirement already satisfied: joblib>=0.11 in /usr/local/lib/python3.7/dist-packages (from scikit-learn->dice-ml) (1.0.1)\n",
            "Requirement already satisfied: scipy>=0.17.0 in /usr/local/lib/python3.7/dist-packages (from scikit-learn->dice-ml) (1.4.1)\n",
            "Installing collected packages: dice-ml\n",
            "Successfully installed dice-ml-0.6.1\n"
          ],
          "name": "stdout"
        }
      ]
    },
    {
      "cell_type": "code",
      "metadata": {
        "id": "7XemLruOSkMN"
      },
      "source": [
        "#import the dice library\n",
        "import dice_ml"
      ],
      "execution_count": 46,
      "outputs": []
    },
    {
      "cell_type": "markdown",
      "metadata": {
        "id": "5kHr2yMgSTn2"
      },
      "source": [
        ">>#### Change datatype of the variables"
      ]
    },
    {
      "cell_type": "code",
      "metadata": {
        "id": "vCcP2cNPSVBs",
        "colab": {
          "base_uri": "https://localhost:8080/"
        },
        "outputId": "0740a5e8-9eee-49ee-d644-8270ebb595e0"
      },
      "source": [
        "train.dtypes"
      ],
      "execution_count": 43,
      "outputs": [
        {
          "output_type": "execute_result",
          "data": {
            "text/plain": [
              "Gender_Male             int64\n",
              "Married                 int64\n",
              "Graduate                int64\n",
              "Self_Employed           int64\n",
              "ApplicantIncome         int64\n",
              "CoapplicantIncome     float64\n",
              "LoanAmount            float64\n",
              "Loan_Amount_Term      float64\n",
              "Credit_History          int64\n",
              "Eligible                int64\n",
              "Rural_Property          uint8\n",
              "Semiurban_Property      uint8\n",
              "Urban_Property          uint8\n",
              "Dependents_0            uint8\n",
              "Dependents_1            uint8\n",
              "Dependents_2            uint8\n",
              "Dependents_3            uint8\n",
              "dtype: object"
            ]
          },
          "metadata": {
            "tags": []
          },
          "execution_count": 43
        }
      ]
    },
    {
      "cell_type": "code",
      "metadata": {
        "id": "nuNu54ADSaa8"
      },
      "source": [
        "#Change datatype to integer\n",
        "train['Rural_Property'] = train['Rural_Property'].astype('int') \n",
        "train['Semiurban_Property'] = train['Semiurban_Property'].astype('int') \n",
        "train['Urban_Property'] = train['Urban_Property'].astype('int') \n",
        "train['Dependents_0'] = train['Dependents_0'].astype('int') \n",
        "train['Dependents_1'] = train['Dependents_1'].astype('int') \n",
        "train['Dependents_2'] = train['Dependents_1'].astype('int') \n",
        "train['Dependents_3'] = train['Dependents_1'].astype('int') \n",
        "train['CoapplicantIncome'] = train['CoapplicantIncome'].astype('int') \n",
        "train['LoanAmount'] = train['LoanAmount'].astype('int') \n",
        "train['Loan_Amount_Term'] = train['Loan_Amount_Term'].astype('int') "
      ],
      "execution_count": 44,
      "outputs": []
    },
    {
      "cell_type": "markdown",
      "metadata": {
        "id": "pkaVOVe-QxF-"
      },
      "source": [
        ">> #### Create Counterfactuals"
      ]
    },
    {
      "cell_type": "code",
      "metadata": {
        "id": "pls3k4gIRix9"
      },
      "source": [
        "#Data\n",
        "data_dice = dice_ml.Data(dataframe=train, \n",
        "                         continuous_features=['ApplicantIncome','CoapplicantIncome','LoanAmount','Loan_Amount_Term'], \n",
        "                         outcome_name='Eligible')"
      ],
      "execution_count": 47,
      "outputs": []
    },
    {
      "cell_type": "code",
      "metadata": {
        "id": "vjy_l5xbR7sO"
      },
      "source": [
        "#Model\n",
        "rf_dice = dice_ml.Model(model=modelrf, backend=\"sklearn\")"
      ],
      "execution_count": 48,
      "outputs": []
    },
    {
      "cell_type": "code",
      "metadata": {
        "id": "v4MvfB5dRks9"
      },
      "source": [
        "#explainer\n",
        "rfexplainer = dice_ml.Dice(data_dice, \n",
        "                         rf_dice, \n",
        "                         method=\"random\")"
      ],
      "execution_count": 49,
      "outputs": []
    },
    {
      "cell_type": "code",
      "metadata": {
        "id": "5SntxSEORmns"
      },
      "source": [
        "#explanations\n",
        "cf2 = rfexplainer.generate_counterfactuals(x_test[10:11], \n",
        "                                  total_CFs=5, \n",
        "                                  desired_class=\"opposite\")\n",
        "# Visualize it\n",
        "cf2.visualize_as_dataframe(show_only_changes=True)"
      ],
      "execution_count": null,
      "outputs": []
    },
    {
      "cell_type": "markdown",
      "metadata": {
        "id": "JEB9cvbSRqYf"
      },
      "source": [
        ">>#### Control Counterfactuals features and Range of Values"
      ]
    },
    {
      "cell_type": "code",
      "metadata": {
        "id": "cyTwz15gRtaI"
      },
      "source": [
        "#Create feasible (conditional) Counterfactuals\n",
        "features_to_vary=['Credit_History','Loan_Amount_Term','Graduate','Gender_Male']\n",
        "#permitted_range={'ApplicantIncome':[1000,6000],\n",
        "                #'CoapplicantIncome':[1000, 5000]}\n",
        "# Now generating explanations using the new feature weights\n",
        "cf2 = rfexplainer.generate_counterfactuals(x_test[10:11], \n",
        "                                  total_CFs=5, \n",
        "                                  desired_class=\"opposite\",\n",
        "                                  features_to_vary=features_to_vary)\n",
        "\n",
        "# Visualize it\n",
        "cf2.visualize_as_dataframe(show_only_changes=True)"
      ],
      "execution_count": null,
      "outputs": []
    },
    {
      "cell_type": "markdown",
      "metadata": {
        "id": "aBf5138jJ2Ft"
      },
      "source": [
        "## <font color='chocolate'>**3. Neural Network**"
      ]
    },
    {
      "cell_type": "code",
      "metadata": {
        "id": "KGDhxrl8J2Ft"
      },
      "source": [
        "x_train.head(2)"
      ],
      "execution_count": null,
      "outputs": []
    },
    {
      "cell_type": "markdown",
      "metadata": {
        "id": "_noyQ20wJ2Fu"
      },
      "source": [
        "For a neural network algorithm it is necessary that we scale the data. With standard scaler we can standardize the data."
      ]
    },
    {
      "cell_type": "code",
      "metadata": {
        "id": "dYLwdfqwJ2Fu"
      },
      "source": [
        "#from sklearn.preprocessing import StandardScaler\n",
        "X_train = x_train.copy()"
      ],
      "execution_count": 58,
      "outputs": []
    },
    {
      "cell_type": "code",
      "metadata": {
        "id": "MirLXIKlJ2Fu"
      },
      "source": [
        "from sklearn.preprocessing import StandardScaler\n",
        "col_names = ['ApplicantIncome', 'CoapplicantIncome','LoanAmount','Loan_Amount_Term']\n",
        "features = X_train[col_names]\n",
        "scaler = StandardScaler().fit(features.values)\n",
        "features = scaler.transform(features.values)"
      ],
      "execution_count": 59,
      "outputs": []
    },
    {
      "cell_type": "code",
      "metadata": {
        "id": "tVb8qT15J2Fu"
      },
      "source": [
        "X_train[col_names] = features\n",
        "\n",
        "X_train.head(2)\n"
      ],
      "execution_count": null,
      "outputs": []
    },
    {
      "cell_type": "code",
      "metadata": {
        "id": "Bg3s09KTJ2Fv"
      },
      "source": [
        "#Do the same for X_test\n",
        "\n",
        "X_test = x_test.copy()\n",
        "\n",
        "col_names = ['ApplicantIncome', 'CoapplicantIncome','LoanAmount','Loan_Amount_Term']\n",
        "features = X_test[col_names]\n",
        "scaler = StandardScaler().fit(features.values)\n",
        "features = scaler.transform(features.values)\n",
        "\n",
        "X_test[col_names] = features\n",
        "\n",
        "X_test.head(2)"
      ],
      "execution_count": null,
      "outputs": []
    },
    {
      "cell_type": "code",
      "metadata": {
        "id": "1per2OBmJ2Fv"
      },
      "source": [
        "#import Neural Network\n",
        "from sklearn.neural_network import MLPClassifier"
      ],
      "execution_count": 62,
      "outputs": []
    },
    {
      "cell_type": "markdown",
      "metadata": {
        "id": "0VJW8sZ4J2Fw"
      },
      "source": [
        "We will use two hidden layers with 20 neurons in each layer and a 'relu' activation unit. We can experiment with dfferent learning rates to improve the accuracy of the model. "
      ]
    },
    {
      "cell_type": "code",
      "metadata": {
        "id": "aNktf7sJJ2Fw"
      },
      "source": [
        "nn = MLPClassifier(hidden_layer_sizes=(10), activation='logistic', learning_rate_init=0.01, solver='sgd',max_iter=800)"
      ],
      "execution_count": 63,
      "outputs": []
    },
    {
      "cell_type": "code",
      "metadata": {
        "id": "FRyg2zkLJ2Fw"
      },
      "source": [
        "nn.fit(X_train, y_train)"
      ],
      "execution_count": null,
      "outputs": []
    },
    {
      "cell_type": "code",
      "metadata": {
        "id": "LxDKAehuJ2Fy"
      },
      "source": [
        "nnpred = nn.predict(X_test)"
      ],
      "execution_count": 65,
      "outputs": []
    },
    {
      "cell_type": "code",
      "metadata": {
        "colab": {
          "base_uri": "https://localhost:8080/"
        },
        "id": "krbalSTvJ2Fz",
        "outputId": "b5ba1659-d5c6-4306-cfd0-a3434ccc5f49"
      },
      "source": [
        "from sklearn.metrics import accuracy_score\n",
        "accuracy_score(y_test,nnpred)"
      ],
      "execution_count": 66,
      "outputs": [
        {
          "output_type": "execute_result",
          "data": {
            "text/plain": [
              "0.7804878048780488"
            ]
          },
          "metadata": {
            "tags": []
          },
          "execution_count": 66
        }
      ]
    },
    {
      "cell_type": "markdown",
      "metadata": {
        "id": "8gqb80nRvGZ1"
      },
      "source": [
        ">>## LIME"
      ]
    },
    {
      "cell_type": "markdown",
      "metadata": {
        "id": "QaB2P33KvRJa"
      },
      "source": [
        "Use the scalar for prediction function, and use the non-scaled data with LimeTabularExplainer"
      ]
    },
    {
      "cell_type": "code",
      "metadata": {
        "id": "vIoS7xKEvLlK"
      },
      "source": [
        "nnLIMEexplainer = lime_tabular.LimeTabularExplainer(\n",
        "    training_data=np.array(x_train),\n",
        "    feature_names=X_train.columns,\n",
        "    mode='classification'\n",
        ")"
      ],
      "execution_count": null,
      "outputs": []
    },
    {
      "cell_type": "code",
      "metadata": {
        "id": "rhuvn7A1vUS3"
      },
      "source": [
        "exp = nnLIMEexplainer.explain_instance(\n",
        "    data_row=x_test.iloc[8], ##new data 7 and 10\n",
        "    predict_fn=nn.predict_proba\n",
        "    \n",
        ")\n",
        "exp.show_in_notebook(show_table=True)\n",
        "exp.as_list()"
      ],
      "execution_count": null,
      "outputs": []
    },
    {
      "cell_type": "markdown",
      "metadata": {
        "id": "KTu10DKuvaLK"
      },
      "source": [
        ">>## SHAP"
      ]
    },
    {
      "cell_type": "code",
      "metadata": {
        "id": "j8XgkyVYvey8"
      },
      "source": [
        "nnSHAPexplainer = shap.KernelExplainer(nn.predict, X_train)\n",
        "nnshap_values = nnSHAPexplainer.shap_values(X_test)\n",
        "nnchoosen_instance = X_test.iloc[1,:]"
      ],
      "execution_count": null,
      "outputs": []
    },
    {
      "cell_type": "code",
      "metadata": {
        "id": "Ww2PmipHvlL5"
      },
      "source": [
        "shap.summary_plot(nnshap_values, X_test, plot_type='bar')"
      ],
      "execution_count": null,
      "outputs": []
    },
    {
      "cell_type": "code",
      "metadata": {
        "id": "RjVIrNz5vnDP"
      },
      "source": [
        "shap.initjs()\n",
        "shap.force_plot(nnSHAPexplainer.expected_value, nnshap_values[1], nnchoosen_instance)"
      ],
      "execution_count": null,
      "outputs": []
    },
    {
      "cell_type": "markdown",
      "metadata": {
        "id": "gWYlj2WUwzUK"
      },
      "source": [
        ">>## Dashboard"
      ]
    },
    {
      "cell_type": "code",
      "metadata": {
        "id": "DTmfrJZuw2n2"
      },
      "source": [
        "nn.fit(X_train, y_train)\n",
        "\n",
        "nnSHAPexplainer = ClassifierExplainer(nn, X_test, y_test, shap='kernel')\n",
        "\n",
        "db3 = ExplainerDashboard(nnSHAPexplainer, title=\"Loan Eligibility\",\n",
        "                    whatif=True, # you can switch off tabs with bools\n",
        "                    shap_interaction=False,\n",
        "                    decision_trees=False)\n",
        "#db3.run()"
      ],
      "execution_count": null,
      "outputs": []
    },
    {
      "cell_type": "markdown",
      "metadata": {
        "id": "rEF46fbrS29u"
      },
      "source": [
        ">>## Counterfactuals"
      ]
    },
    {
      "cell_type": "markdown",
      "metadata": {
        "id": "tjt4vHaHS929"
      },
      "source": [
        ">>#### Install Counterfactuals\n",
        "\n"
      ]
    },
    {
      "cell_type": "code",
      "metadata": {
        "id": "RlXrLEiFTHbf"
      },
      "source": [
        "#First time installation\n",
        "!pip install dice-ml"
      ],
      "execution_count": null,
      "outputs": []
    },
    {
      "cell_type": "code",
      "metadata": {
        "id": "RP9lw9ujTJ3u"
      },
      "source": [
        "#import the dice library\n",
        "import dice_ml"
      ],
      "execution_count": null,
      "outputs": []
    },
    {
      "cell_type": "markdown",
      "metadata": {
        "id": "aNoUgMVITL45"
      },
      "source": [
        ">>#### Change datatype of the variables"
      ]
    },
    {
      "cell_type": "code",
      "metadata": {
        "id": "ioyfEx32TWU3"
      },
      "source": [
        "train.dtypes"
      ],
      "execution_count": null,
      "outputs": []
    },
    {
      "cell_type": "code",
      "metadata": {
        "id": "M2PVA11LTYks"
      },
      "source": [
        "#Change datatype to integer\n",
        "train['Rural_Property'] = train['Rural_Property'].astype('int') \n",
        "train['Semiurban_Property'] = train['Semiurban_Property'].astype('int') \n",
        "train['Urban_Property'] = train['Urban_Property'].astype('int') \n",
        "train['Dependents_0'] = train['Dependents_0'].astype('int') \n",
        "train['Dependents_1'] = train['Dependents_1'].astype('int') \n",
        "train['Dependents_2'] = train['Dependents_1'].astype('int') \n",
        "train['Dependents_3'] = train['Dependents_1'].astype('int') \n",
        "train['CoapplicantIncome'] = train['CoapplicantIncome'].astype('int') \n",
        "train['LoanAmount'] = train['LoanAmount'].astype('int') \n",
        "train['Loan_Amount_Term'] = train['Loan_Amount_Term'].astype('int') "
      ],
      "execution_count": null,
      "outputs": []
    },
    {
      "cell_type": "markdown",
      "metadata": {
        "id": "v2Uk_QIlTbU7"
      },
      "source": [
        ">> #### Create Counterfactuals"
      ]
    },
    {
      "cell_type": "code",
      "metadata": {
        "id": "K1b43R72Tf0O"
      },
      "source": [
        "#Data\n",
        "data_dice = dice_ml.Data(dataframe=train, \n",
        "                         continuous_features=['ApplicantIncome','CoapplicantIncome','LoanAmount','Loan_Amount_Term'], \n",
        "                         outcome_name='Eligible')"
      ],
      "execution_count": null,
      "outputs": []
    },
    {
      "cell_type": "code",
      "metadata": {
        "id": "7JwRiPWmTiRL"
      },
      "source": [
        "#Model\n",
        "nn_dice = dice_ml.Model(model=nn, backend=\"sklearn\")"
      ],
      "execution_count": null,
      "outputs": []
    },
    {
      "cell_type": "code",
      "metadata": {
        "id": "_8TGoCxWTkLz"
      },
      "source": [
        "#explainer\n",
        "explainer = dice_ml.Dice(data_dice, \n",
        "                         nn_dice, \n",
        "                         method=\"random\")"
      ],
      "execution_count": null,
      "outputs": []
    },
    {
      "cell_type": "code",
      "metadata": {
        "id": "CL9LsHhrTmD7"
      },
      "source": [
        "#explanations\n",
        "cf = explainer.generate_counterfactuals(x_test[2:3], \n",
        "                                  total_CFs=10, \n",
        "                                  desired_class=\"opposite\")"
      ],
      "execution_count": null,
      "outputs": []
    },
    {
      "cell_type": "code",
      "metadata": {
        "id": "mC1PUz9IToTd"
      },
      "source": [
        "# Visualize it\n",
        "cf.visualize_as_dataframe(show_only_changes=True)"
      ],
      "execution_count": null,
      "outputs": []
    },
    {
      "cell_type": "markdown",
      "metadata": {
        "id": "XqsjAhDuTqhO"
      },
      "source": [
        ">>#### Control Counterfactuals features and Range of Values"
      ]
    },
    {
      "cell_type": "code",
      "metadata": {
        "id": "gdjuMUTYTwOU"
      },
      "source": [
        "#Create feasible (conditional) Counterfactuals\n",
        "features_to_vary=['Credit_History','Loan_Amount_Term','Graduate']\n",
        "#permitted_range={'ApplicantIncome':[1000,6000],\n",
        "                #'CoapplicantIncome':[1000, 5000]}\n",
        "# Now generating explanations using the new feature weights\n",
        "cf = explainer.generate_counterfactuals(x_test[2:3], \n",
        "                                  total_CFs=5, \n",
        "                                  desired_class=\"opposite\",\n",
        "                                  features_to_vary=features_to_vary)\n",
        "\n",
        "# Visualize it\n",
        "cf.visualize_as_dataframe(show_only_changes=True)"
      ],
      "execution_count": null,
      "outputs": []
    },
    {
      "cell_type": "markdown",
      "metadata": {
        "id": "FnbmPGPwxC4O"
      },
      "source": [
        "## **Explainer HUB**"
      ]
    },
    {
      "cell_type": "code",
      "metadata": {
        "id": "Ye74XZNUxLsM"
      },
      "source": [
        "#we will host all the dashboards under one hub\n",
        "db1 = ExplainerDashboard(lrSHAPexplainer, title=\"Logistic Regression Model\", name=\"db1\",\n",
        "            description=\"This dashboard shows the workings of a Logistic Regression fitted machine learning model, and explains its predictions.\")\n",
        "db2 = ExplainerDashboard(SHAPrfexplainer, title=\"Random Forest Model\", name=\"db2\",\n",
        "            description=\"This dashboard shows the workings of a Random Forest fitted machine learning model, and explains its predictions.\")\n",
        "#db3 = ExplainerDashboard(nnSHAPexplainer,  title=\"Neural Network Model\", name=\"db3\",\n",
        "            description=\"This dashboard shows the workings of a Neural Network fitted machine learning model, and explains its predictions.\")\n",
        "hub = ExplainerHub([db1, db2, db3])\n",
        "hub.run()"
      ],
      "execution_count": null,
      "outputs": []
    },
    {
      "cell_type": "markdown",
      "metadata": {
        "id": "FIFI3J9hJ2G7"
      },
      "source": [
        "## **Receiver Operating Characteristic (ROC) curve & Area Under ROC (AUROC**)"
      ]
    },
    {
      "cell_type": "code",
      "metadata": {
        "id": "lc0aT_erJ2G8"
      },
      "source": [
        "from sklearn.metrics import roc_curve, roc_auc_score"
      ],
      "execution_count": 67,
      "outputs": []
    },
    {
      "cell_type": "code",
      "metadata": {
        "id": "18gxVmRgJ2G8"
      },
      "source": [
        "y_proba = lrmodel.predict_proba(x_test)[:,1]\n",
        "y2_proba = modelrf.predict_proba(x_test)[:,1]\n",
        "y3_proba = nn.predict_proba(X_test)[:,1]"
      ],
      "execution_count": 68,
      "outputs": []
    },
    {
      "cell_type": "code",
      "metadata": {
        "id": "MjRzRgtme4mJ"
      },
      "source": [
        "#Compare model accuracy\n",
        "print('Logistic Regression:',np.round(accuracy_score(y_test, lrpred),3))\n",
        "print('Random Forest:',np.round(accuracy_score(y_test, rfpred),3))\n",
        "print('Neural Network:',np.round(accuracy_score(y_test,nnpred),3))"
      ],
      "execution_count": null,
      "outputs": []
    },
    {
      "cell_type": "code",
      "metadata": {
        "id": "b_Q7YyIMJ2G9"
      },
      "source": [
        "\n",
        "# Plot a ROC curve from y_test and pred\n",
        "fpr, tpr, thresholds = roc_curve(y_test, lrpred)\n",
        "fpr2, tpr2, thresholds = roc_curve(y_test, rfpred)\n",
        "fpr3, tpr3, thresholds = roc_curve(y_test, nnpred)\n",
        "\n",
        "plt.plot(fpr, tpr, label= 'lr')\n",
        "plt.plot(fpr2, tpr2, label = 'rf')\n",
        "plt.plot(fpr3, tpr3, label = 'nn')\n",
        "plt.plot([0,1],[0,1],'k--')\n",
        "plt.legend(loc='lower right')\n",
        "plt.show()"
      ],
      "execution_count": null,
      "outputs": []
    },
    {
      "cell_type": "markdown",
      "metadata": {
        "id": "sQmeBP45J2G_"
      },
      "source": [
        "### We can see above that the Area under the curve and the AUROC score are maximum for Logistic regression. In this case we can say Logistic regression is our Winning Model!"
      ]
    }
  ]
}